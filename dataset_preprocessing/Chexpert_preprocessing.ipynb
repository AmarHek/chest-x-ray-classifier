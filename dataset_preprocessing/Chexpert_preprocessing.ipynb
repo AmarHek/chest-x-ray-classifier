{
 "cells": [
  {
   "cell_type": "code",
   "execution_count": 1,
   "metadata": {
    "pycharm": {
     "name": "#%%\n"
    }
   },
   "outputs": [],
   "source": [
    "from PIL import Image\n",
    "import numpy as np\n",
    "import os\n",
    "import tqdm\n",
    "import pandas as pd"
   ]
  },
  {
   "cell_type": "code",
   "execution_count": 3,
   "metadata": {
    "pycharm": {
     "name": "#%%\n"
    }
   },
   "outputs": [],
   "source": [
    "# root = \"/home/amar/Datasets/X-ray/CheXpert/CheXpert/\"\n",
    "root = \"E:/Datasets/CheXpert-v1.0-small/CheXpert-v1.0-small/\""
   ]
  },
  {
   "cell_type": "code",
   "execution_count": 6,
   "metadata": {
    "pycharm": {
     "name": "#%%\n"
    }
   },
   "outputs": [],
   "source": [
    "train_csv = \"F:/CheXpert-v1.0/train.csv\"\n",
    "valid_csv = \"F:/CheXpert-v1.0/valid.csv\""
   ]
  },
  {
   "cell_type": "code",
   "execution_count": 7,
   "metadata": {
    "pycharm": {
     "name": "#%%\n"
    }
   },
   "outputs": [],
   "source": [
    "train_labels = pd.read_csv(train_csv)\n",
    "val_labels = pd.read_csv(valid_csv)"
   ]
  },
  {
   "cell_type": "code",
   "execution_count": 8,
   "metadata": {
    "pycharm": {
     "name": "#%%\n"
    }
   },
   "outputs": [
    {
     "data": {
      "text/plain": "(223414, 234)"
     },
     "execution_count": 8,
     "metadata": {},
     "output_type": "execute_result"
    }
   ],
   "source": [
    "len(train_labels), len(val_labels)"
   ]
  },
  {
   "cell_type": "code",
   "execution_count": 12,
   "metadata": {
    "pycharm": {
     "name": "#%%\n"
    }
   },
   "outputs": [
    {
     "name": "stderr",
     "output_type": "stream",
     "text": [
      "100%|███████████████████████████████████████████████████████████████████████████| 64540/64540 [05:17<00:00, 203.37it/s]\n"
     ]
    }
   ],
   "source": [
    "train_images = []\n",
    "train_images_renamed = []\n",
    "patients = os.listdir(train_dir)\n",
    "for i, patient in tqdm.tqdm(enumerate(patients), total=len(patients)):\n",
    "    studies = os.listdir(train_dir + patient)\n",
    "    for j, study in enumerate(studies):\n",
    "        images = os.listdir(train_dir+patient+'/'+study)\n",
    "        for k, img in enumerate(images):\n",
    "            train_images.append(train_dir+patient+'/'+study+'/'+img)\n",
    "            train_images_renamed.append(root+'train_renamed/'+patient+'_'+study+'_'+img)"
   ]
  },
  {
   "cell_type": "code",
   "execution_count": 13,
   "metadata": {
    "pycharm": {
     "name": "#%%\n"
    }
   },
   "outputs": [
    {
     "name": "stderr",
     "output_type": "stream",
     "text": [
      "100%|███████████████████████████████████████████████████████████████████████████████| 200/200 [00:00<00:00, 381.66it/s]\n"
     ]
    }
   ],
   "source": [
    "val_images = []\n",
    "val_images_renamed = []\n",
    "patients = os.listdir(val_dir)\n",
    "for i, patient in tqdm.tqdm(enumerate(patients), total=len(patients)):\n",
    "    studies = os.listdir(val_dir + patient)\n",
    "    for j, study in enumerate(studies):\n",
    "        images = os.listdir(val_dir+patient+'/'+study)\n",
    "        for k, img in enumerate(images):\n",
    "            val_images.append(val_dir+patient+'/'+study+'/'+img)\n",
    "            val_images_renamed.append(root+'val_renamed/'+patient+'_'+study+'_'+img)"
   ]
  },
  {
   "cell_type": "code",
   "execution_count": 14,
   "metadata": {
    "pycharm": {
     "name": "#%%\n"
    }
   },
   "outputs": [
    {
     "data": {
      "text/plain": [
       "(223415, 234)"
      ]
     },
     "execution_count": 14,
     "metadata": {},
     "output_type": "execute_result"
    }
   ],
   "source": [
    "len(train_images_renamed), len(val_images_renamed)"
   ]
  },
  {
   "cell_type": "code",
   "execution_count": null,
   "metadata": {
    "pycharm": {
     "name": "#%%\n"
    }
   },
   "outputs": [],
   "source": []
  },
  {
   "cell_type": "code",
   "execution_count": 8,
   "metadata": {
    "pycharm": {
     "name": "#%%\n"
    }
   },
   "outputs": [],
   "source": [
    "import shutil"
   ]
  },
  {
   "cell_type": "code",
   "execution_count": 9,
   "metadata": {
    "pycharm": {
     "name": "#%%\n"
    }
   },
   "outputs": [
    {
     "name": "stderr",
     "output_type": "stream",
     "text": [
      "100%|██████████| 32387/32387 [00:00<00:00, 33419.29it/s]\n"
     ]
    }
   ],
   "source": [
    "for i in tqdm.tqdm(range(len(train_images))):\n",
    "  shutil.move(train_images[i], train_images_renamed[i])"
   ]
  },
  {
   "cell_type": "code",
   "execution_count": 10,
   "metadata": {
    "pycharm": {
     "name": "#%%\n"
    }
   },
   "outputs": [
    {
     "name": "stderr",
     "output_type": "stream",
     "text": [
      "100%|██████████| 32/32 [00:00<00:00, 17501.33it/s]\n"
     ]
    }
   ],
   "source": [
    "for i in tqdm.tqdm(range(len(val_images))):\n",
    "  shutil.move(val_images[i], val_images_renamed[i])"
   ]
  },
  {
   "cell_type": "code",
   "execution_count": 11,
   "metadata": {
    "pycharm": {
     "name": "#%%\n"
    }
   },
   "outputs": [],
   "source": [
    "import pandas as pd"
   ]
  },
  {
   "cell_type": "markdown",
   "metadata": {
    "pycharm": {
     "name": "#%% md\n"
    }
   },
   "source": [
    "Training"
   ]
  },
  {
   "cell_type": "code",
   "execution_count": 74,
   "metadata": {
    "pycharm": {
     "name": "#%%\n"
    }
   },
   "outputs": [],
   "source": [
    "data = pd.read_csv(root+\"label_information/train.csv\")\n",
    "data = data.drop(labels=['Sex', 'Age', 'AP/PA'], axis=1)\n",
    "data['Path'] = data['Path'].map(lambda x: x.replace('CheXpert-v1.0-small/train/', ''))\n",
    "data['Path'] = data['Path'].map(lambda x: x.replace('/', '_'))\n",
    "#data['Path'] = data['Path'].map(lambda x: 'C:/Users/Amar/Datasets/CheXpert/CheXpert/train_renamed/' + x)\n",
    "data = data.loc[data['Frontal/Lateral'] == 'Frontal']\n",
    "data = data.drop(labels='Frontal/Lateral', axis=1)"
   ]
  },
  {
   "cell_type": "code",
   "execution_count": 75,
   "metadata": {
    "pycharm": {
     "name": "#%%\n"
    }
   },
   "outputs": [],
   "source": [
    "labels = data[data.keys()[2:]]\n",
    "labels = labels.values\n",
    "index = data.index.values.tolist()\n",
    "uncertain = []\n",
    "for i in range(len(labels)):\n",
    "    if -1 in labels[i]:\n",
    "        uncertain.append(index[i])"
   ]
  },
  {
   "cell_type": "code",
   "execution_count": 34,
   "metadata": {
    "pycharm": {
     "name": "#%%\n"
    }
   },
   "outputs": [],
   "source": [
    "data = data.drop(index=uncertain)"
   ]
  },
  {
   "cell_type": "code",
   "execution_count": 35,
   "metadata": {
    "pycharm": {
     "name": "#%%\n"
    }
   },
   "outputs": [],
   "source": [
    "files = data['Path'].tolist()\n",
    "label_nf = data['No Finding'].tolist()\n",
    "#for i, entry in enumerate(files):\n",
    "#    files[i] = entry.replace(prefix, '')"
   ]
  },
  {
   "cell_type": "code",
   "execution_count": 38,
   "metadata": {
    "pycharm": {
     "name": "#%%\n"
    }
   },
   "outputs": [],
   "source": [
    "import math"
   ]
  },
  {
   "cell_type": "code",
   "execution_count": 39,
   "metadata": {
    "pycharm": {
     "name": "#%%\n"
    }
   },
   "outputs": [],
   "source": [
    "for i, label in enumerate(label_nf):\n",
    "    if math.isnan(label):\n",
    "        label_nf[i] = 0\n",
    "    else:\n",
    "        label_nf[i] = 1"
   ]
  },
  {
   "cell_type": "code",
   "execution_count": 41,
   "metadata": {
    "pycharm": {
     "name": "#%%\n"
    }
   },
   "outputs": [],
   "source": [
    "import csv"
   ]
  },
  {
   "cell_type": "code",
   "execution_count": 42,
   "metadata": {
    "pycharm": {
     "name": "#%%\n"
    }
   },
   "outputs": [],
   "source": [
    "train_rows = zip(files, label_nf)\n",
    "with open('/home/amar/Datasets/X-ray/CheXpert/CheXpert/normal_frontal_split/train.csv', 'w') as f:\n",
    "    writer = csv.writer(f)\n",
    "    for row in train_rows:\n",
    "        writer.writerow(row)"
   ]
  },
  {
   "cell_type": "markdown",
   "metadata": {
    "pycharm": {
     "name": "#%% md\n"
    }
   },
   "source": [
    "Validation"
   ]
  },
  {
   "cell_type": "code",
   "execution_count": 77,
   "metadata": {
    "pycharm": {
     "name": "#%%\n"
    }
   },
   "outputs": [],
   "source": [
    "data = pd.read_csv(root+\"label_information/valid.csv\")\n",
    "data = data.drop(labels=['Sex', 'Age', 'AP/PA'], axis=1)\n",
    "data['Path'] = data['Path'].map(lambda x: x.replace('CheXpert-v1.0-small/valid/', ''))\n",
    "data['Path'] = data['Path'].map(lambda x: x.replace('/', '_'))\n",
    "data = data.loc[data['Frontal/Lateral'] == 'Frontal']\n",
    "data = data.drop(labels='Frontal/Lateral', axis=1)"
   ]
  },
  {
   "cell_type": "code",
   "execution_count": 84,
   "metadata": {
    "pycharm": {
     "name": "#%%\n"
    }
   },
   "outputs": [],
   "source": [
    "labels = data[data.keys()[2:]]\n",
    "labels = labels.values\n",
    "index = data.index.values.tolist()\n",
    "uncertain = []\n",
    "for i in range(len(labels)):\n",
    "    if -1 in labels[i]:\n",
    "        uncertain.append(index[i])"
   ]
  },
  {
   "cell_type": "code",
   "execution_count": 89,
   "metadata": {
    "pycharm": {
     "name": "#%%\n"
    }
   },
   "outputs": [],
   "source": [
    "files = data['Path'].tolist()\n",
    "label_nf = data['No Finding'].tolist()"
   ]
  },
  {
   "cell_type": "code",
   "execution_count": 94,
   "metadata": {
    "pycharm": {
     "name": "#%%\n"
    }
   },
   "outputs": [],
   "source": [
    "for i, label in enumerate(label_nf):\n",
    "    label_nf[i] = int(label)"
   ]
  },
  {
   "cell_type": "code",
   "execution_count": 96,
   "metadata": {
    "pycharm": {
     "name": "#%%\n"
    }
   },
   "outputs": [],
   "source": [
    "val_rows = zip(files, label_nf)\n",
    "with open('/home/amar/Datasets/X-ray/CheXpert/CheXpert/normal_frontal_split/val.csv', 'w') as f:\n",
    "    writer = csv.writer(f)\n",
    "    for row in val_rows:\n",
    "        writer.writerow(row)"
   ]
  },
  {
   "cell_type": "code",
   "execution_count": 97,
   "metadata": {
    "pycharm": {
     "name": "#%%\n"
    }
   },
   "outputs": [
    {
     "data": {
      "text/plain": [
       "0.12871287128712872"
      ]
     },
     "execution_count": 97,
     "metadata": {},
     "output_type": "execute_result"
    }
   ],
   "source": [
    "np.sum(label_nf)/len(label_nf)"
   ]
  },
  {
   "cell_type": "code",
   "execution_count": null,
   "metadata": {
    "pycharm": {
     "name": "#%%\n"
    }
   },
   "outputs": [],
   "source": []
  },
  {
   "cell_type": "code",
   "execution_count": null,
   "metadata": {
    "pycharm": {
     "name": "#%%\n"
    }
   },
   "outputs": [],
   "source": []
  },
  {
   "cell_type": "code",
   "execution_count": null,
   "metadata": {
    "pycharm": {
     "name": "#%%\n"
    }
   },
   "outputs": [],
   "source": []
  },
  {
   "cell_type": "code",
   "execution_count": null,
   "metadata": {
    "pycharm": {
     "name": "#%%\n"
    }
   },
   "outputs": [],
   "source": []
  },
  {
   "cell_type": "code",
   "execution_count": null,
   "metadata": {
    "pycharm": {
     "name": "#%%\n"
    }
   },
   "outputs": [],
   "source": []
  },
  {
   "cell_type": "code",
   "execution_count": 99,
   "metadata": {
    "pycharm": {
     "name": "#%%\n"
    }
   },
   "outputs": [],
   "source": [
    "path = '/home/amar/Datasets/X-ray/CheXpert/images/'"
   ]
  },
  {
   "cell_type": "code",
   "execution_count": 100,
   "metadata": {
    "pycharm": {
     "name": "#%%\n"
    }
   },
   "outputs": [],
   "source": [
    "images = os.listdir(path)"
   ]
  },
  {
   "cell_type": "code",
   "execution_count": 104,
   "metadata": {
    "pycharm": {
     "name": "#%%\n"
    }
   },
   "outputs": [],
   "source": [
    "from PIL import Image\n",
    "import numpy as np"
   ]
  },
  {
   "cell_type": "code",
   "execution_count": 124,
   "metadata": {
    "pycharm": {
     "name": "#%%\n"
    }
   },
   "outputs": [],
   "source": [
    "img = Image.open(path+images[6])\n",
    "img = np.asarray(img)\n",
    "img2 = Image.open(path+images[1])\n",
    "img2 = np.asarray(img2)"
   ]
  },
  {
   "cell_type": "code",
   "execution_count": 134,
   "metadata": {
    "pycharm": {
     "name": "#%%\n"
    }
   },
   "outputs": [],
   "source": [
    "import tqdm"
   ]
  },
  {
   "cell_type": "code",
   "execution_count": 136,
   "metadata": {
    "pycharm": {
     "name": "#%%\n"
    }
   },
   "outputs": [
    {
     "name": "stderr",
     "output_type": "stream",
     "text": [
      "100%|██████████| 223648/223648 [06:57<00:00, 535.75it/s]\n"
     ]
    },
    {
     "data": {
      "text/plain": [
       "(325.4738696523108, 372.7543282300758)"
      ]
     },
     "execution_count": 136,
     "metadata": {},
     "output_type": "execute_result"
    }
   ],
   "source": [
    "x = []\n",
    "y = []\n",
    "max_x = 0\n",
    "max_y = 0\n",
    "for file in tqdm.tqdm(images, total=len(images)):\n",
    "    img = np.asarray(Image.open(path+file))\n",
    "    shape = img.shape\n",
    "    if shape[0] > max_x:\n",
    "        max_x = shape[0]\n",
    "    if shape[1] > max_y:\n",
    "        max_y = shape[1]\n",
    "    x.append(shape[0])\n",
    "    y.append(shape[1])\n",
    "np.mean(x), np.mean(y)"
   ]
  },
  {
   "cell_type": "code",
   "execution_count": 137,
   "metadata": {
    "pycharm": {
     "name": "#%%\n"
    }
   },
   "outputs": [
    {
     "name": "stderr",
     "output_type": "stream",
     "text": [
      "100%|██████████| 223648/223648 [05:33<00:00, 669.87it/s]\n"
     ]
    },
    {
     "data": {
      "text/plain": [
       "0.8814376147143383"
      ]
     },
     "execution_count": 137,
     "metadata": {},
     "output_type": "execute_result"
    }
   ],
   "source": [
    "ratios = []\n",
    "for file in tqdm.tqdm(images, total=len(images)):\n",
    "    img = np.asarray(Image.open(path+file))\n",
    "    shape = img.shape\n",
    "    ratio = shape[0]/shape[1]\n",
    "    ratios.append(ratio)\n",
    "np.mean(ratios)"
   ]
  },
  {
   "cell_type": "code",
   "execution_count": 138,
   "metadata": {
    "pycharm": {
     "name": "#%%\n"
    }
   },
   "outputs": [
    {
     "data": {
      "text/plain": [
       "(642, 930)"
      ]
     },
     "execution_count": 138,
     "metadata": {},
     "output_type": "execute_result"
    }
   ],
   "source": [
    "max_x, max_y"
   ]
  },
  {
   "cell_type": "code",
   "execution_count": null,
   "metadata": {
    "pycharm": {
     "name": "#%%\n"
    }
   },
   "outputs": [],
   "source": []
  },
  {
   "cell_type": "code",
   "execution_count": null,
   "metadata": {
    "pycharm": {
     "name": "#%%\n"
    }
   },
   "outputs": [],
   "source": []
  },
  {
   "cell_type": "code",
   "execution_count": null,
   "metadata": {
    "pycharm": {
     "name": "#%%\n"
    }
   },
   "outputs": [],
   "source": []
  },
  {
   "cell_type": "code",
   "execution_count": null,
   "metadata": {
    "pycharm": {
     "name": "#%%\n"
    }
   },
   "outputs": [],
   "source": []
  },
  {
   "cell_type": "code",
   "execution_count": null,
   "metadata": {
    "pycharm": {
     "name": "#%%\n"
    }
   },
   "outputs": [],
   "source": []
  },
  {
   "cell_type": "code",
   "execution_count": null,
   "metadata": {
    "pycharm": {
     "name": "#%%\n"
    }
   },
   "outputs": [],
   "source": []
  },
  {
   "cell_type": "code",
   "execution_count": null,
   "metadata": {
    "pycharm": {
     "name": "#%%\n"
    }
   },
   "outputs": [],
   "source": []
  },
  {
   "cell_type": "markdown",
   "metadata": {
    "pycharm": {
     "name": "#%% md\n"
    }
   },
   "source": [
    "# Conventional Data Split"
   ]
  },
  {
   "cell_type": "markdown",
   "metadata": {
    "pycharm": {
     "name": "#%% md\n"
    }
   },
   "source": [
    "Using only frontal X-rays and excluding uncertain labels"
   ]
  },
  {
   "cell_type": "code",
   "execution_count": 21,
   "metadata": {
    "pycharm": {
     "name": "#%%\n"
    }
   },
   "outputs": [],
   "source": [
    "import pandas as pd\n",
    "import numpy as np\n",
    "import tqdm"
   ]
  },
  {
   "cell_type": "code",
   "execution_count": 4,
   "metadata": {
    "pycharm": {
     "name": "#%%\n"
    }
   },
   "outputs": [],
   "source": [
    "path = '/home/amar/Datasets/X-ray/CheXpert/normal_frontal_split/'"
   ]
  },
  {
   "cell_type": "code",
   "execution_count": 12,
   "metadata": {
    "pycharm": {
     "name": "#%%\n"
    }
   },
   "outputs": [],
   "source": [
    "train_data = pd.read_csv(path+'train.csv', header=None)\n",
    "val_data = pd.read_csv(path+'val.csv', header=None)"
   ]
  },
  {
   "cell_type": "code",
   "execution_count": 18,
   "metadata": {
    "pycharm": {
     "name": "#%%\n"
    }
   },
   "outputs": [],
   "source": [
    "images = train_data[0].tolist() + val_data[0].tolist()\n",
    "labels = train_data[1].tolist() + val_data[1].tolist()"
   ]
  },
  {
   "cell_type": "code",
   "execution_count": 20,
   "metadata": {
    "pycharm": {
     "name": "#%%\n"
    }
   },
   "outputs": [
    {
     "data": {
      "text/plain": [
       "(118488, 118488)"
      ]
     },
     "execution_count": 20,
     "metadata": {},
     "output_type": "execute_result"
    }
   ],
   "source": [
    "len(images), len(labels)"
   ]
  },
  {
   "cell_type": "code",
   "execution_count": 22,
   "metadata": {
    "pycharm": {
     "name": "#%%\n"
    }
   },
   "outputs": [
    {
     "data": {
      "text/plain": [
       "['patient00001_study1_view1_frontal.jpg',\n",
       " 'patient00003_study1_view1_frontal.jpg',\n",
       " 'patient00004_study1_view1_frontal.jpg',\n",
       " 'patient00005_study1_view1_frontal.jpg',\n",
       " 'patient00005_study2_view1_frontal.jpg',\n",
       " 'patient00005_study2_view2_frontal.jpg',\n",
       " 'patient00006_study1_view1_frontal.jpg',\n",
       " 'patient00007_study1_view1_frontal.jpg',\n",
       " 'patient00007_study2_view1_frontal.jpg',\n",
       " 'patient00008_study1_view1_frontal.jpg',\n",
       " 'patient00008_study2_view1_frontal.jpg',\n",
       " 'patient00009_study1_view1_frontal.jpg',\n",
       " 'patient00010_study1_view1_frontal.jpg',\n",
       " 'patient00011_study13_view1_frontal.jpg',\n",
       " 'patient00011_study5_view1_frontal.jpg',\n",
       " 'patient00011_study7_view1_frontal.jpg',\n",
       " 'patient00011_study2_view1_frontal.jpg',\n",
       " 'patient00011_study10_view1_frontal.jpg',\n",
       " 'patient00011_study11_view1_frontal.jpg',\n",
       " 'patient00011_study8_view1_frontal.jpg',\n",
       " 'patient00011_study12_view1_frontal.jpg',\n",
       " 'patient00011_study3_view1_frontal.jpg',\n",
       " 'patient00011_study6_view1_frontal.jpg',\n",
       " 'patient00012_study3_view1_frontal.jpg',\n",
       " 'patient00012_study1_view1_frontal.jpg',\n",
       " 'patient00013_study1_view1_frontal.jpg',\n",
       " 'patient00016_study1_view1_frontal.jpg',\n",
       " 'patient00017_study1_view1_frontal.jpg',\n",
       " 'patient00019_study1_view1_frontal.jpg',\n",
       " 'patient00019_study4_view1_frontal.jpg',\n",
       " 'patient00019_study3_view1_frontal.jpg',\n",
       " 'patient00020_study1_view1_frontal.jpg',\n",
       " 'patient00021_study1_view1_frontal.jpg',\n",
       " 'patient00022_study2_view1_frontal.jpg',\n",
       " 'patient00022_study1_view1_frontal.jpg',\n",
       " 'patient00023_study1_view1_frontal.jpg',\n",
       " 'patient00023_study4_view1_frontal.jpg',\n",
       " 'patient00023_study2_view1_frontal.jpg',\n",
       " 'patient00023_study10_view1_frontal.jpg',\n",
       " 'patient00023_study5_view1_frontal.jpg',\n",
       " 'patient00023_study8_view1_frontal.jpg',\n",
       " 'patient00023_study6_view1_frontal.jpg',\n",
       " 'patient00023_study7_view1_frontal.jpg',\n",
       " 'patient00024_study2_view1_frontal.jpg',\n",
       " 'patient00025_study1_view1_frontal.jpg',\n",
       " 'patient00026_study1_view1_frontal.jpg',\n",
       " 'patient00027_study1_view1_frontal.jpg',\n",
       " 'patient00028_study2_view1_frontal.jpg',\n",
       " 'patient00030_study1_view1_frontal.jpg',\n",
       " 'patient00031_study3_view1_frontal.jpg',\n",
       " 'patient00032_study1_view1_frontal.jpg',\n",
       " 'patient00035_study1_view1_frontal.jpg',\n",
       " 'patient00036_study1_view1_frontal.jpg',\n",
       " 'patient00038_study1_view1_frontal.jpg',\n",
       " 'patient00038_study2_view1_frontal.jpg',\n",
       " 'patient00038_study3_view1_frontal.jpg',\n",
       " 'patient00039_study1_view1_frontal.jpg',\n",
       " 'patient00039_study10_view1_frontal.jpg',\n",
       " 'patient00039_study4_view1_frontal.jpg',\n",
       " 'patient00039_study6_view1_frontal.jpg',\n",
       " 'patient00039_study5_view1_frontal.jpg',\n",
       " 'patient00040_study1_view1_frontal.jpg',\n",
       " 'patient00041_study1_view1_frontal.jpg',\n",
       " 'patient00042_study1_view1_frontal.jpg',\n",
       " 'patient00043_study1_view1_frontal.jpg',\n",
       " 'patient00043_study2_view1_frontal.jpg',\n",
       " 'patient00043_study3_view1_frontal.jpg',\n",
       " 'patient00044_study6_view1_frontal.jpg',\n",
       " 'patient00044_study2_view1_frontal.jpg',\n",
       " 'patient00044_study1_view1_frontal.jpg',\n",
       " 'patient00044_study4_view1_frontal.jpg',\n",
       " 'patient00045_study1_view1_frontal.jpg',\n",
       " 'patient00046_study3_view1_frontal.jpg',\n",
       " 'patient00047_study1_view1_frontal.jpg',\n",
       " 'patient00047_study2_view1_frontal.jpg',\n",
       " 'patient00047_study4_view1_frontal.jpg',\n",
       " 'patient00047_study5_view1_frontal.jpg',\n",
       " 'patient00048_study1_view1_frontal.jpg',\n",
       " 'patient00049_study1_view1_frontal.jpg',\n",
       " 'patient00049_study3_view1_frontal.jpg',\n",
       " 'patient00050_study1_view1_frontal.jpg',\n",
       " 'patient00051_study1_view1_frontal.jpg',\n",
       " 'patient00054_study1_view1_frontal.jpg',\n",
       " 'patient00055_study2_view1_frontal.jpg',\n",
       " 'patient00055_study1_view1_frontal.jpg',\n",
       " 'patient00055_study3_view1_frontal.jpg',\n",
       " 'patient00056_study1_view1_frontal.jpg',\n",
       " 'patient00056_study4_view1_frontal.jpg',\n",
       " 'patient00056_study3_view1_frontal.jpg',\n",
       " 'patient00057_study1_view1_frontal.jpg',\n",
       " 'patient00057_study2_view1_frontal.jpg',\n",
       " 'patient00058_study1_view1_frontal.jpg',\n",
       " 'patient00060_study1_view1_frontal.jpg',\n",
       " 'patient00061_study2_view1_frontal.jpg',\n",
       " 'patient00061_study2_view2_frontal.jpg',\n",
       " 'patient00061_study1_view1_frontal.jpg',\n",
       " 'patient00061_study3_view1_frontal.jpg',\n",
       " 'patient00061_study4_view1_frontal.jpg',\n",
       " 'patient00061_study5_view1_frontal.jpg',\n",
       " 'patient00062_study1_view1_frontal.jpg',\n",
       " 'patient00062_study4_view1_frontal.jpg',\n",
       " 'patient00063_study1_view1_frontal.jpg',\n",
       " 'patient00063_study5_view1_frontal.jpg',\n",
       " 'patient00065_study1_view1_frontal.jpg',\n",
       " 'patient00066_study1_view1_frontal.jpg',\n",
       " 'patient00067_study2_view1_frontal.jpg',\n",
       " 'patient00068_study1_view1_frontal.jpg',\n",
       " 'patient00069_study37_view1_frontal.jpg',\n",
       " 'patient00069_study30_view1_frontal.jpg',\n",
       " 'patient00069_study41_view1_frontal.jpg',\n",
       " 'patient00069_study43_view1_frontal.jpg',\n",
       " 'patient00069_study47_view1_frontal.jpg',\n",
       " 'patient00069_study18_view1_frontal.jpg',\n",
       " 'patient00069_study42_view1_frontal.jpg',\n",
       " 'patient00069_study8_view1_frontal.jpg',\n",
       " 'patient00069_study34_view1_frontal.jpg',\n",
       " 'patient00069_study5_view1_frontal.jpg',\n",
       " 'patient00069_study13_view1_frontal.jpg',\n",
       " 'patient00069_study7_view1_frontal.jpg',\n",
       " 'patient00069_study20_view1_frontal.jpg',\n",
       " 'patient00069_study14_view1_frontal.jpg',\n",
       " 'patient00069_study32_view1_frontal.jpg',\n",
       " 'patient00069_study9_view1_frontal.jpg',\n",
       " 'patient00069_study21_view1_frontal.jpg',\n",
       " 'patient00069_study19_view1_frontal.jpg',\n",
       " 'patient00069_study4_view1_frontal.jpg',\n",
       " 'patient00069_study28_view1_frontal.jpg',\n",
       " 'patient00069_study33_view1_frontal.jpg',\n",
       " 'patient00069_study12_view1_frontal.jpg',\n",
       " 'patient00069_study26_view1_frontal.jpg',\n",
       " 'patient00069_study39_view1_frontal.jpg',\n",
       " 'patient00069_study3_view1_frontal.jpg',\n",
       " 'patient00069_study25_view1_frontal.jpg',\n",
       " 'patient00069_study35_view1_frontal.jpg',\n",
       " 'patient00069_study31_view1_frontal.jpg',\n",
       " 'patient00069_study10_view1_frontal.jpg',\n",
       " 'patient00069_study23_view1_frontal.jpg',\n",
       " 'patient00069_study11_view1_frontal.jpg',\n",
       " 'patient00069_study46_view1_frontal.jpg',\n",
       " 'patient00069_study16_view1_frontal.jpg',\n",
       " 'patient00069_study24_view1_frontal.jpg',\n",
       " 'patient00069_study45_view1_frontal.jpg',\n",
       " 'patient00070_study1_view1_frontal.jpg',\n",
       " 'patient00071_study1_view1_frontal.jpg',\n",
       " 'patient00072_study1_view1_frontal.jpg',\n",
       " 'patient00073_study1_view1_frontal.jpg',\n",
       " 'patient00075_study3_view1_frontal.jpg',\n",
       " 'patient00075_study4_view1_frontal.jpg',\n",
       " 'patient00077_study1_view1_frontal.jpg',\n",
       " 'patient00078_study1_view1_frontal.jpg',\n",
       " 'patient00078_study2_view1_frontal.jpg',\n",
       " 'patient00078_study3_view1_frontal.jpg',\n",
       " 'patient00078_study9_view1_frontal.jpg',\n",
       " 'patient00078_study6_view1_frontal.jpg',\n",
       " 'patient00078_study8_view1_frontal.jpg',\n",
       " 'patient00078_study5_view1_frontal.jpg',\n",
       " 'patient00078_study7_view1_frontal.jpg',\n",
       " 'patient00078_study4_view1_frontal.jpg',\n",
       " 'patient00079_study1_view1_frontal.jpg',\n",
       " 'patient00080_study2_view1_frontal.jpg',\n",
       " 'patient00080_study4_view1_frontal.jpg',\n",
       " 'patient00080_study1_view1_frontal.jpg',\n",
       " 'patient00080_study5_view1_frontal.jpg',\n",
       " 'patient00080_study3_view1_frontal.jpg',\n",
       " 'patient00080_study6_view1_frontal.jpg',\n",
       " 'patient00081_study1_view1_frontal.jpg',\n",
       " 'patient00081_study1_view2_frontal.jpg',\n",
       " 'patient00082_study1_view1_frontal.jpg',\n",
       " 'patient00083_study1_view1_frontal.jpg',\n",
       " 'patient00084_study2_view1_frontal.jpg',\n",
       " 'patient00084_study1_view1_frontal.jpg',\n",
       " 'patient00085_study4_view1_frontal.jpg',\n",
       " 'patient00086_study1_view1_frontal.jpg',\n",
       " 'patient00087_study3_view1_frontal.jpg',\n",
       " 'patient00087_study3_view2_frontal.jpg',\n",
       " 'patient00087_study2_view1_frontal.jpg',\n",
       " 'patient00088_study1_view1_frontal.jpg',\n",
       " 'patient00088_study1_view2_frontal.jpg',\n",
       " 'patient00089_study1_view1_frontal.jpg',\n",
       " 'patient00091_study1_view1_frontal.jpg',\n",
       " 'patient00092_study5_view1_frontal.jpg',\n",
       " 'patient00092_study1_view1_frontal.jpg',\n",
       " 'patient00092_study2_view1_frontal.jpg',\n",
       " 'patient00092_study4_view1_frontal.jpg',\n",
       " 'patient00094_study1_view1_frontal.jpg',\n",
       " 'patient00096_study1_view1_frontal.jpg',\n",
       " 'patient00096_study2_view1_frontal.jpg',\n",
       " 'patient00097_study1_view1_frontal.jpg',\n",
       " 'patient00098_study6_view1_frontal.jpg',\n",
       " 'patient00098_study5_view1_frontal.jpg',\n",
       " 'patient00098_study1_view1_frontal.jpg',\n",
       " 'patient00098_study2_view1_frontal.jpg',\n",
       " 'patient00098_study3_view1_frontal.jpg',\n",
       " 'patient00098_study7_view1_frontal.jpg',\n",
       " 'patient00099_study1_view1_frontal.jpg',\n",
       " 'patient00100_study1_view1_frontal.jpg',\n",
       " 'patient00100_study8_view1_frontal.jpg',\n",
       " 'patient00100_study9_view1_frontal.jpg',\n",
       " 'patient00100_study7_view1_frontal.jpg',\n",
       " 'patient00100_study2_view1_frontal.jpg',\n",
       " 'patient00100_study3_view1_frontal.jpg',\n",
       " 'patient00101_study2_view1_frontal.jpg',\n",
       " 'patient00102_study1_view1_frontal.jpg',\n",
       " 'patient00102_study2_view1_frontal.jpg',\n",
       " 'patient00105_study1_view1_frontal.jpg',\n",
       " 'patient00106_study1_view1_frontal.jpg',\n",
       " 'patient00107_study1_view1_frontal.jpg',\n",
       " 'patient00108_study1_view1_frontal.jpg',\n",
       " 'patient00109_study2_view1_frontal.jpg',\n",
       " 'patient00109_study3_view1_frontal.jpg',\n",
       " 'patient00110_study1_view1_frontal.jpg',\n",
       " 'patient00111_study3_view1_frontal.jpg',\n",
       " 'patient00112_study1_view1_frontal.jpg',\n",
       " 'patient00113_study2_view1_frontal.jpg',\n",
       " 'patient00114_study10_view1_frontal.jpg',\n",
       " 'patient00114_study9_view1_frontal.jpg',\n",
       " 'patient00114_study12_view1_frontal.jpg',\n",
       " 'patient00114_study19_view1_frontal.jpg',\n",
       " 'patient00114_study2_view1_frontal.jpg',\n",
       " 'patient00114_study3_view1_frontal.jpg',\n",
       " 'patient00114_study14_view1_frontal.jpg',\n",
       " 'patient00114_study11_view1_frontal.jpg',\n",
       " 'patient00114_study4_view1_frontal.jpg',\n",
       " 'patient00114_study6_view1_frontal.jpg',\n",
       " 'patient00114_study8_view1_frontal.jpg',\n",
       " 'patient00114_study13_view1_frontal.jpg',\n",
       " 'patient00114_study18_view1_frontal.jpg',\n",
       " 'patient00114_study16_view1_frontal.jpg',\n",
       " 'patient00115_study1_view1_frontal.jpg',\n",
       " 'patient00116_study2_view1_frontal.jpg',\n",
       " 'patient00118_study1_view1_frontal.jpg',\n",
       " 'patient00118_study2_view1_frontal.jpg',\n",
       " 'patient00118_study3_view1_frontal.jpg',\n",
       " 'patient00118_study3_view2_frontal.jpg',\n",
       " 'patient00119_study1_view1_frontal.jpg',\n",
       " 'patient00119_study3_view1_frontal.jpg',\n",
       " 'patient00119_study2_view1_frontal.jpg',\n",
       " 'patient00119_study4_view1_frontal.jpg',\n",
       " 'patient00119_study5_view1_frontal.jpg',\n",
       " 'patient00119_study6_view1_frontal.jpg',\n",
       " 'patient00120_study1_view1_frontal.jpg',\n",
       " 'patient00121_study1_view1_frontal.jpg',\n",
       " 'patient00122_study3_view1_frontal.jpg',\n",
       " 'patient00122_study5_view1_frontal.jpg',\n",
       " 'patient00122_study8_view1_frontal.jpg',\n",
       " 'patient00122_study2_view1_frontal.jpg',\n",
       " 'patient00122_study7_view1_frontal.jpg',\n",
       " 'patient00122_study6_view1_frontal.jpg',\n",
       " 'patient00123_study2_view1_frontal.jpg',\n",
       " 'patient00123_study3_view1_frontal.jpg',\n",
       " 'patient00124_study7_view1_frontal.jpg',\n",
       " 'patient00124_study4_view1_frontal.jpg',\n",
       " 'patient00124_study6_view1_frontal.jpg',\n",
       " 'patient00124_study5_view1_frontal.jpg',\n",
       " 'patient00124_study1_view1_frontal.jpg',\n",
       " 'patient00126_study1_view1_frontal.jpg',\n",
       " 'patient00127_study1_view1_frontal.jpg',\n",
       " 'patient00128_study4_view1_frontal.jpg',\n",
       " 'patient00128_study18_view1_frontal.jpg',\n",
       " 'patient00128_study16_view1_frontal.jpg',\n",
       " 'patient00128_study24_view1_frontal.jpg',\n",
       " 'patient00128_study11_view1_frontal.jpg',\n",
       " 'patient00128_study13_view1_frontal.jpg',\n",
       " 'patient00128_study8_view1_frontal.jpg',\n",
       " 'patient00128_study9_view1_frontal.jpg',\n",
       " 'patient00128_study20_view1_frontal.jpg',\n",
       " 'patient00128_study7_view1_frontal.jpg',\n",
       " 'patient00128_study10_view1_frontal.jpg',\n",
       " 'patient00128_study22_view1_frontal.jpg',\n",
       " 'patient00129_study1_view1_frontal.jpg',\n",
       " 'patient00130_study1_view1_frontal.jpg',\n",
       " 'patient00132_study2_view1_frontal.jpg',\n",
       " 'patient00132_study1_view1_frontal.jpg',\n",
       " 'patient00133_study1_view1_frontal.jpg',\n",
       " 'patient00134_study5_view1_frontal.jpg',\n",
       " 'patient00134_study3_view1_frontal.jpg',\n",
       " 'patient00134_study1_view1_frontal.jpg',\n",
       " 'patient00134_study7_view1_frontal.jpg',\n",
       " 'patient00134_study6_view1_frontal.jpg',\n",
       " 'patient00134_study4_view1_frontal.jpg',\n",
       " 'patient00134_study2_view1_frontal.jpg',\n",
       " 'patient00135_study1_view1_frontal.jpg',\n",
       " 'patient00135_study4_view1_frontal.jpg',\n",
       " 'patient00136_study1_view1_frontal.jpg',\n",
       " 'patient00137_study3_view1_frontal.jpg',\n",
       " 'patient00138_study5_view1_frontal.jpg',\n",
       " 'patient00138_study8_view1_frontal.jpg',\n",
       " 'patient00138_study2_view1_frontal.jpg',\n",
       " 'patient00138_study6_view1_frontal.jpg',\n",
       " 'patient00138_study4_view1_frontal.jpg',\n",
       " 'patient00138_study7_view1_frontal.jpg',\n",
       " 'patient00138_study3_view1_frontal.jpg',\n",
       " 'patient00139_study3_view1_frontal.jpg',\n",
       " 'patient00139_study4_view1_frontal.jpg',\n",
       " 'patient00139_study1_view1_frontal.jpg',\n",
       " 'patient00140_study5_view1_frontal.jpg',\n",
       " 'patient00140_study4_view1_frontal.jpg',\n",
       " 'patient00140_study3_view1_frontal.jpg',\n",
       " 'patient00140_study8_view1_frontal.jpg',\n",
       " 'patient00140_study11_view1_frontal.jpg',\n",
       " 'patient00140_study2_view1_frontal.jpg',\n",
       " 'patient00142_study1_view1_frontal.jpg',\n",
       " 'patient00142_study10_view1_frontal.jpg',\n",
       " 'patient00142_study2_view1_frontal.jpg',\n",
       " 'patient00142_study8_view1_frontal.jpg',\n",
       " 'patient00142_study6_view1_frontal.jpg',\n",
       " 'patient00142_study7_view1_frontal.jpg',\n",
       " 'patient00142_study5_view1_frontal.jpg',\n",
       " 'patient00142_study9_view1_frontal.jpg',\n",
       " 'patient00142_study3_view1_frontal.jpg',\n",
       " 'patient00142_study4_view1_frontal.jpg',\n",
       " 'patient00143_study2_view1_frontal.jpg',\n",
       " 'patient00145_study1_view1_frontal.jpg',\n",
       " 'patient00146_study5_view1_frontal.jpg',\n",
       " 'patient00146_study21_view1_frontal.jpg',\n",
       " 'patient00146_study14_view1_frontal.jpg',\n",
       " 'patient00146_study10_view1_frontal.jpg',\n",
       " 'patient00146_study16_view1_frontal.jpg',\n",
       " 'patient00146_study20_view1_frontal.jpg',\n",
       " 'patient00146_study11_view1_frontal.jpg',\n",
       " 'patient00146_study17_view1_frontal.jpg',\n",
       " 'patient00146_study18_view1_frontal.jpg',\n",
       " 'patient00146_study6_view1_frontal.jpg',\n",
       " 'patient00147_study4_view1_frontal.jpg',\n",
       " 'patient00147_study5_view1_frontal.jpg',\n",
       " 'patient00147_study1_view1_frontal.jpg',\n",
       " 'patient00147_study3_view1_frontal.jpg',\n",
       " 'patient00147_study8_view1_frontal.jpg',\n",
       " 'patient00147_study12_view1_frontal.jpg',\n",
       " 'patient00148_study1_view1_frontal.jpg',\n",
       " 'patient00148_study2_view1_frontal.jpg',\n",
       " 'patient00149_study2_view1_frontal.jpg',\n",
       " 'patient00149_study1_view1_frontal.jpg',\n",
       " 'patient00150_study2_view1_frontal.jpg',\n",
       " 'patient00151_study1_view1_frontal.jpg',\n",
       " 'patient00151_study2_view1_frontal.jpg',\n",
       " 'patient00152_study1_view1_frontal.jpg',\n",
       " 'patient00153_study1_view1_frontal.jpg',\n",
       " 'patient00154_study1_view1_frontal.jpg',\n",
       " 'patient00155_study7_view1_frontal.jpg',\n",
       " 'patient00155_study4_view1_frontal.jpg',\n",
       " 'patient00155_study6_view1_frontal.jpg',\n",
       " 'patient00155_study8_view1_frontal.jpg',\n",
       " 'patient00155_study1_view1_frontal.jpg',\n",
       " 'patient00155_study5_view1_frontal.jpg',\n",
       " 'patient00157_study1_view1_frontal.jpg',\n",
       " 'patient00158_study1_view1_frontal.jpg',\n",
       " 'patient00158_study1_view2_frontal.jpg',\n",
       " 'patient00159_study1_view1_frontal.jpg',\n",
       " 'patient00160_study1_view1_frontal.jpg',\n",
       " 'patient00163_study1_view1_frontal.jpg',\n",
       " 'patient00164_study1_view1_frontal.jpg',\n",
       " 'patient00165_study2_view1_frontal.jpg',\n",
       " 'patient00165_study1_view1_frontal.jpg',\n",
       " 'patient00166_study1_view1_frontal.jpg',\n",
       " 'patient00167_study1_view1_frontal.jpg',\n",
       " 'patient00168_study4_view1_frontal.jpg',\n",
       " 'patient00168_study4_view2_frontal.jpg',\n",
       " 'patient00168_study1_view1_frontal.jpg',\n",
       " 'patient00168_study5_view1_frontal.jpg',\n",
       " 'patient00168_study2_view1_frontal.jpg',\n",
       " 'patient00168_study3_view1_frontal.jpg',\n",
       " 'patient00169_study3_view1_frontal.jpg',\n",
       " 'patient00170_study6_view1_frontal.jpg',\n",
       " 'patient00170_study11_view1_frontal.jpg',\n",
       " 'patient00170_study2_view1_frontal.jpg',\n",
       " 'patient00170_study7_view1_frontal.jpg',\n",
       " 'patient00170_study5_view1_frontal.jpg',\n",
       " 'patient00170_study3_view1_frontal.jpg',\n",
       " 'patient00170_study8_view1_frontal.jpg',\n",
       " 'patient00170_study4_view1_frontal.jpg',\n",
       " 'patient00170_study1_view1_frontal.jpg',\n",
       " 'patient00170_study9_view1_frontal.jpg',\n",
       " 'patient00171_study6_view1_frontal.jpg',\n",
       " 'patient00171_study7_view1_frontal.jpg',\n",
       " 'patient00171_study3_view1_frontal.jpg',\n",
       " 'patient00171_study5_view1_frontal.jpg',\n",
       " 'patient00172_study5_view1_frontal.jpg',\n",
       " 'patient00172_study1_view1_frontal.jpg',\n",
       " 'patient00172_study2_view1_frontal.jpg',\n",
       " 'patient00172_study4_view1_frontal.jpg',\n",
       " 'patient00173_study1_view1_frontal.jpg',\n",
       " 'patient00174_study2_view1_frontal.jpg',\n",
       " 'patient00175_study1_view1_frontal.jpg',\n",
       " 'patient00176_study1_view1_frontal.jpg',\n",
       " 'patient00177_study5_view1_frontal.jpg',\n",
       " 'patient00177_study3_view1_frontal.jpg',\n",
       " 'patient00177_study4_view1_frontal.jpg',\n",
       " 'patient00178_study4_view1_frontal.jpg',\n",
       " 'patient00178_study1_view1_frontal.jpg',\n",
       " 'patient00178_study8_view1_frontal.jpg',\n",
       " 'patient00178_study2_view1_frontal.jpg',\n",
       " 'patient00178_study3_view1_frontal.jpg',\n",
       " 'patient00179_study3_view1_frontal.jpg',\n",
       " 'patient00179_study1_view1_frontal.jpg',\n",
       " 'patient00180_study2_view1_frontal.jpg',\n",
       " 'patient00181_study1_view1_frontal.jpg',\n",
       " 'patient00183_study1_view1_frontal.jpg',\n",
       " 'patient00183_study3_view1_frontal.jpg',\n",
       " 'patient00183_study2_view1_frontal.jpg',\n",
       " 'patient00184_study2_view1_frontal.jpg',\n",
       " 'patient00184_study1_view1_frontal.jpg',\n",
       " 'patient00184_study4_view1_frontal.jpg',\n",
       " 'patient00184_study3_view1_frontal.jpg',\n",
       " 'patient00185_study1_view1_frontal.jpg',\n",
       " 'patient00185_study1_view2_frontal.jpg',\n",
       " 'patient00186_study1_view1_frontal.jpg',\n",
       " 'patient00186_study2_view1_frontal.jpg',\n",
       " 'patient00189_study1_view1_frontal.jpg',\n",
       " 'patient00190_study1_view1_frontal.jpg',\n",
       " 'patient00190_study1_view2_frontal.jpg',\n",
       " 'patient00191_study1_view1_frontal.jpg',\n",
       " 'patient00192_study1_view1_frontal.jpg',\n",
       " 'patient00193_study1_view1_frontal.jpg',\n",
       " 'patient00194_study3_view1_frontal.jpg',\n",
       " 'patient00194_study2_view1_frontal.jpg',\n",
       " 'patient00194_study1_view1_frontal.jpg',\n",
       " 'patient00196_study1_view1_frontal.jpg',\n",
       " 'patient00197_study1_view1_frontal.jpg',\n",
       " 'patient00198_study1_view1_frontal.jpg',\n",
       " 'patient00199_study1_view1_frontal.jpg',\n",
       " 'patient00201_study1_view1_frontal.jpg',\n",
       " 'patient00202_study1_view1_frontal.jpg',\n",
       " 'patient00202_study1_view2_frontal.jpg',\n",
       " 'patient00203_study1_view1_frontal.jpg',\n",
       " 'patient00203_study2_view1_frontal.jpg',\n",
       " 'patient00204_study8_view1_frontal.jpg',\n",
       " 'patient00204_study6_view1_frontal.jpg',\n",
       " 'patient00204_study16_view1_frontal.jpg',\n",
       " 'patient00204_study7_view1_frontal.jpg',\n",
       " 'patient00204_study7_view2_frontal.jpg',\n",
       " 'patient00204_study17_view1_frontal.jpg',\n",
       " 'patient00204_study11_view1_frontal.jpg',\n",
       " 'patient00205_study1_view1_frontal.jpg',\n",
       " 'patient00206_study1_view1_frontal.jpg',\n",
       " 'patient00207_study1_view1_frontal.jpg',\n",
       " 'patient00208_study4_view1_frontal.jpg',\n",
       " 'patient00208_study4_view2_frontal.jpg',\n",
       " 'patient00208_study2_view1_frontal.jpg',\n",
       " 'patient00208_study3_view1_frontal.jpg',\n",
       " 'patient00208_study1_view1_frontal.jpg',\n",
       " 'patient00209_study7_view1_frontal.jpg',\n",
       " 'patient00209_study4_view1_frontal.jpg',\n",
       " 'patient00209_study5_view1_frontal.jpg',\n",
       " 'patient00209_study2_view1_frontal.jpg',\n",
       " 'patient00210_study14_view1_frontal.jpg',\n",
       " 'patient00210_study9_view1_frontal.jpg',\n",
       " 'patient00210_study8_view1_frontal.jpg',\n",
       " 'patient00210_study11_view1_frontal.jpg',\n",
       " 'patient00210_study19_view1_frontal.jpg',\n",
       " 'patient00210_study17_view1_frontal.jpg',\n",
       " 'patient00210_study2_view1_frontal.jpg',\n",
       " 'patient00210_study13_view1_frontal.jpg',\n",
       " 'patient00210_study16_view1_frontal.jpg',\n",
       " 'patient00211_study2_view1_frontal.jpg',\n",
       " 'patient00212_study1_view1_frontal.jpg',\n",
       " 'patient00213_study1_view1_frontal.jpg',\n",
       " 'patient00216_study1_view1_frontal.jpg',\n",
       " 'patient00217_study2_view1_frontal.jpg',\n",
       " 'patient00217_study1_view1_frontal.jpg',\n",
       " 'patient00218_study1_view1_frontal.jpg',\n",
       " 'patient00218_study2_view1_frontal.jpg',\n",
       " 'patient00219_study1_view1_frontal.jpg',\n",
       " 'patient00220_study1_view1_frontal.jpg',\n",
       " 'patient00220_study2_view1_frontal.jpg',\n",
       " 'patient00221_study10_view1_frontal.jpg',\n",
       " 'patient00221_study14_view1_frontal.jpg',\n",
       " 'patient00221_study8_view1_frontal.jpg',\n",
       " 'patient00221_study6_view1_frontal.jpg',\n",
       " 'patient00221_study7_view1_frontal.jpg',\n",
       " 'patient00221_study5_view1_frontal.jpg',\n",
       " 'patient00223_study1_view1_frontal.jpg',\n",
       " 'patient00225_study1_view1_frontal.jpg',\n",
       " 'patient00226_study2_view1_frontal.jpg',\n",
       " 'patient00227_study1_view1_frontal.jpg',\n",
       " 'patient00230_study1_view1_frontal.jpg',\n",
       " 'patient00232_study1_view1_frontal.jpg',\n",
       " 'patient00234_study1_view1_frontal.jpg',\n",
       " 'patient00235_study11_view1_frontal.jpg',\n",
       " 'patient00235_study1_view1_frontal.jpg',\n",
       " 'patient00235_study10_view1_frontal.jpg',\n",
       " 'patient00235_study9_view1_frontal.jpg',\n",
       " 'patient00235_study6_view1_frontal.jpg',\n",
       " 'patient00235_study2_view1_frontal.jpg',\n",
       " 'patient00235_study13_view1_frontal.jpg',\n",
       " 'patient00235_study14_view1_frontal.jpg',\n",
       " 'patient00235_study8_view1_frontal.jpg',\n",
       " 'patient00237_study17_view1_frontal.jpg',\n",
       " 'patient00237_study7_view1_frontal.jpg',\n",
       " 'patient00237_study3_view1_frontal.jpg',\n",
       " 'patient00237_study11_view1_frontal.jpg',\n",
       " 'patient00237_study16_view1_frontal.jpg',\n",
       " 'patient00237_study4_view1_frontal.jpg',\n",
       " 'patient00237_study13_view1_frontal.jpg',\n",
       " 'patient00237_study18_view1_frontal.jpg',\n",
       " 'patient00239_study1_view1_frontal.jpg',\n",
       " 'patient00240_study1_view1_frontal.jpg',\n",
       " 'patient00241_study1_view1_frontal.jpg',\n",
       " 'patient00242_study1_view1_frontal.jpg',\n",
       " 'patient00243_study1_view1_frontal.jpg',\n",
       " 'patient00244_study1_view1_frontal.jpg',\n",
       " 'patient00245_study1_view1_frontal.jpg',\n",
       " 'patient00246_study2_view1_frontal.jpg',\n",
       " 'patient00247_study1_view1_frontal.jpg',\n",
       " 'patient00248_study3_view1_frontal.jpg',\n",
       " 'patient00249_study5_view1_frontal.jpg',\n",
       " 'patient00249_study6_view1_frontal.jpg',\n",
       " 'patient00249_study7_view1_frontal.jpg',\n",
       " 'patient00249_study3_view1_frontal.jpg',\n",
       " 'patient00250_study1_view1_frontal.jpg',\n",
       " 'patient00250_study11_view1_frontal.jpg',\n",
       " 'patient00250_study2_view1_frontal.jpg',\n",
       " 'patient00250_study4_view1_frontal.jpg',\n",
       " 'patient00250_study10_view1_frontal.jpg',\n",
       " 'patient00250_study7_view1_frontal.jpg',\n",
       " 'patient00250_study5_view1_frontal.jpg',\n",
       " 'patient00250_study3_view1_frontal.jpg',\n",
       " 'patient00250_study9_view1_frontal.jpg',\n",
       " 'patient00251_study2_view1_frontal.jpg',\n",
       " 'patient00251_study7_view1_frontal.jpg',\n",
       " 'patient00251_study4_view1_frontal.jpg',\n",
       " 'patient00252_study4_view1_frontal.jpg',\n",
       " 'patient00253_study2_view1_frontal.jpg',\n",
       " 'patient00254_study1_view1_frontal.jpg',\n",
       " 'patient00255_study1_view1_frontal.jpg',\n",
       " 'patient00255_study2_view1_frontal.jpg',\n",
       " 'patient00255_study7_view1_frontal.jpg',\n",
       " 'patient00255_study4_view1_frontal.jpg',\n",
       " 'patient00255_study9_view1_frontal.jpg',\n",
       " 'patient00255_study10_view1_frontal.jpg',\n",
       " 'patient00256_study1_view1_frontal.jpg',\n",
       " 'patient00256_study2_view1_frontal.jpg',\n",
       " 'patient00256_study5_view1_frontal.jpg',\n",
       " 'patient00256_study4_view1_frontal.jpg',\n",
       " 'patient00256_study3_view1_frontal.jpg',\n",
       " 'patient00257_study1_view1_frontal.jpg',\n",
       " 'patient00258_study1_view1_frontal.jpg',\n",
       " 'patient00259_study6_view1_frontal.jpg',\n",
       " 'patient00259_study7_view1_frontal.jpg',\n",
       " 'patient00259_study5_view1_frontal.jpg',\n",
       " 'patient00259_study1_view1_frontal.jpg',\n",
       " 'patient00259_study8_view1_frontal.jpg',\n",
       " 'patient00259_study3_view1_frontal.jpg',\n",
       " 'patient00259_study4_view1_frontal.jpg',\n",
       " 'patient00259_study11_view1_frontal.jpg',\n",
       " 'patient00259_study2_view1_frontal.jpg',\n",
       " 'patient00259_study14_view1_frontal.jpg',\n",
       " 'patient00259_study13_view1_frontal.jpg',\n",
       " 'patient00260_study1_view1_frontal.jpg',\n",
       " 'patient00261_study2_view1_frontal.jpg',\n",
       " 'patient00261_study4_view1_frontal.jpg',\n",
       " 'patient00261_study3_view1_frontal.jpg',\n",
       " 'patient00261_study5_view1_frontal.jpg',\n",
       " 'patient00261_study1_view1_frontal.jpg',\n",
       " 'patient00262_study1_view1_frontal.jpg',\n",
       " 'patient00264_study2_view1_frontal.jpg',\n",
       " 'patient00264_study1_view1_frontal.jpg',\n",
       " 'patient00265_study1_view1_frontal.jpg',\n",
       " 'patient00266_study1_view1_frontal.jpg',\n",
       " 'patient00268_study1_view1_frontal.jpg',\n",
       " 'patient00268_study2_view1_frontal.jpg',\n",
       " 'patient00269_study1_view1_frontal.jpg',\n",
       " 'patient00270_study2_view1_frontal.jpg',\n",
       " 'patient00270_study3_view1_frontal.jpg',\n",
       " 'patient00271_study2_view1_frontal.jpg',\n",
       " 'patient00272_study1_view1_frontal.jpg',\n",
       " 'patient00273_study1_view1_frontal.jpg',\n",
       " 'patient00274_study1_view1_frontal.jpg',\n",
       " 'patient00276_study1_view1_frontal.jpg',\n",
       " 'patient00277_study2_view1_frontal.jpg',\n",
       " 'patient00277_study12_view1_frontal.jpg',\n",
       " 'patient00277_study1_view1_frontal.jpg',\n",
       " 'patient00277_study9_view1_frontal.jpg',\n",
       " 'patient00277_study10_view1_frontal.jpg',\n",
       " 'patient00277_study13_view1_frontal.jpg',\n",
       " 'patient00277_study7_view1_frontal.jpg',\n",
       " 'patient00277_study3_view1_frontal.jpg',\n",
       " 'patient00277_study11_view1_frontal.jpg',\n",
       " 'patient00277_study5_view1_frontal.jpg',\n",
       " 'patient00278_study2_view1_frontal.jpg',\n",
       " 'patient00279_study1_view1_frontal.jpg',\n",
       " 'patient00280_study4_view1_frontal.jpg',\n",
       " 'patient00280_study2_view1_frontal.jpg',\n",
       " 'patient00280_study3_view1_frontal.jpg',\n",
       " 'patient00281_study2_view1_frontal.jpg',\n",
       " 'patient00281_study2_view2_frontal.jpg',\n",
       " 'patient00281_study1_view1_frontal.jpg',\n",
       " 'patient00282_study2_view1_frontal.jpg',\n",
       " 'patient00283_study2_view1_frontal.jpg',\n",
       " 'patient00283_study3_view1_frontal.jpg',\n",
       " 'patient00283_study1_view1_frontal.jpg',\n",
       " 'patient00283_study1_view2_frontal.jpg',\n",
       " 'patient00284_study1_view1_frontal.jpg',\n",
       " 'patient00285_study1_view1_frontal.jpg',\n",
       " 'patient00285_study4_view1_frontal.jpg',\n",
       " 'patient00285_study3_view1_frontal.jpg',\n",
       " 'patient00286_study2_view1_frontal.jpg',\n",
       " 'patient00286_study8_view1_frontal.jpg',\n",
       " 'patient00286_study1_view1_frontal.jpg',\n",
       " 'patient00286_study5_view1_frontal.jpg',\n",
       " 'patient00286_study6_view1_frontal.jpg',\n",
       " 'patient00286_study7_view1_frontal.jpg',\n",
       " 'patient00286_study9_view1_frontal.jpg',\n",
       " 'patient00287_study1_view1_frontal.jpg',\n",
       " 'patient00287_study4_view1_frontal.jpg',\n",
       " 'patient00287_study5_view1_frontal.jpg',\n",
       " 'patient00288_study1_view1_frontal.jpg',\n",
       " 'patient00289_study1_view1_frontal.jpg',\n",
       " 'patient00291_study1_view1_frontal.jpg',\n",
       " 'patient00291_study4_view1_frontal.jpg',\n",
       " 'patient00291_study3_view1_frontal.jpg',\n",
       " 'patient00291_study6_view1_frontal.jpg',\n",
       " 'patient00292_study1_view1_frontal.jpg',\n",
       " 'patient00294_study17_view1_frontal.jpg',\n",
       " 'patient00294_study9_view1_frontal.jpg',\n",
       " 'patient00294_study11_view1_frontal.jpg',\n",
       " 'patient00294_study18_view1_frontal.jpg',\n",
       " 'patient00294_study16_view1_frontal.jpg',\n",
       " 'patient00294_study10_view1_frontal.jpg',\n",
       " 'patient00294_study19_view1_frontal.jpg',\n",
       " 'patient00294_study2_view1_frontal.jpg',\n",
       " 'patient00295_study1_view1_frontal.jpg',\n",
       " 'patient00297_study1_view1_frontal.jpg',\n",
       " 'patient00298_study1_view1_frontal.jpg',\n",
       " 'patient00299_study1_view1_frontal.jpg',\n",
       " 'patient00300_study1_view1_frontal.jpg',\n",
       " 'patient00301_study1_view1_frontal.jpg',\n",
       " 'patient00302_study1_view1_frontal.jpg',\n",
       " 'patient00303_study1_view1_frontal.jpg',\n",
       " 'patient00303_study2_view1_frontal.jpg',\n",
       " 'patient00304_study1_view1_frontal.jpg',\n",
       " 'patient00305_study1_view1_frontal.jpg',\n",
       " 'patient00307_study3_view1_frontal.jpg',\n",
       " 'patient00307_study1_view1_frontal.jpg',\n",
       " 'patient00308_study4_view1_frontal.jpg',\n",
       " 'patient00308_study1_view1_frontal.jpg',\n",
       " 'patient00310_study3_view1_frontal.jpg',\n",
       " 'patient00310_study5_view1_frontal.jpg',\n",
       " 'patient00310_study10_view1_frontal.jpg',\n",
       " 'patient00310_study20_view1_frontal.jpg',\n",
       " 'patient00310_study28_view1_frontal.jpg',\n",
       " 'patient00310_study26_view1_frontal.jpg',\n",
       " 'patient00310_study19_view1_frontal.jpg',\n",
       " 'patient00310_study12_view1_frontal.jpg',\n",
       " 'patient00310_study6_view1_frontal.jpg',\n",
       " 'patient00310_study1_view1_frontal.jpg',\n",
       " 'patient00310_study35_view1_frontal.jpg',\n",
       " 'patient00310_study14_view1_frontal.jpg',\n",
       " 'patient00310_study7_view1_frontal.jpg',\n",
       " 'patient00310_study39_view1_frontal.jpg',\n",
       " 'patient00310_study29_view1_frontal.jpg',\n",
       " 'patient00310_study22_view1_frontal.jpg',\n",
       " 'patient00310_study31_view1_frontal.jpg',\n",
       " 'patient00310_study40_view1_frontal.jpg',\n",
       " 'patient00310_study30_view1_frontal.jpg',\n",
       " 'patient00310_study9_view1_frontal.jpg',\n",
       " 'patient00310_study36_view1_frontal.jpg',\n",
       " 'patient00310_study38_view1_frontal.jpg',\n",
       " 'patient00310_study21_view1_frontal.jpg',\n",
       " 'patient00310_study15_view1_frontal.jpg',\n",
       " 'patient00310_study37_view1_frontal.jpg',\n",
       " 'patient00310_study2_view1_frontal.jpg',\n",
       " 'patient00310_study27_view1_frontal.jpg',\n",
       " 'patient00310_study17_view1_frontal.jpg',\n",
       " 'patient00310_study16_view1_frontal.jpg',\n",
       " 'patient00310_study11_view1_frontal.jpg',\n",
       " 'patient00310_study32_view1_frontal.jpg',\n",
       " 'patient00310_study41_view1_frontal.jpg',\n",
       " 'patient00312_study3_view1_frontal.jpg',\n",
       " 'patient00312_study2_view1_frontal.jpg',\n",
       " 'patient00313_study1_view1_frontal.jpg',\n",
       " 'patient00314_study8_view1_frontal.jpg',\n",
       " 'patient00314_study8_view2_frontal.jpg',\n",
       " 'patient00314_study29_view1_frontal.jpg',\n",
       " 'patient00314_study10_view1_frontal.jpg',\n",
       " 'patient00314_study2_view1_frontal.jpg',\n",
       " 'patient00314_study21_view1_frontal.jpg',\n",
       " 'patient00314_study28_view1_frontal.jpg',\n",
       " 'patient00314_study16_view1_frontal.jpg',\n",
       " 'patient00314_study9_view1_frontal.jpg',\n",
       " 'patient00314_study22_view1_frontal.jpg',\n",
       " 'patient00314_study15_view1_frontal.jpg',\n",
       " 'patient00315_study1_view1_frontal.jpg',\n",
       " 'patient00316_study1_view1_frontal.jpg',\n",
       " 'patient00317_study2_view1_frontal.jpg',\n",
       " 'patient00317_study1_view1_frontal.jpg',\n",
       " 'patient00317_study6_view1_frontal.jpg',\n",
       " 'patient00317_study4_view1_frontal.jpg',\n",
       " 'patient00317_study8_view1_frontal.jpg',\n",
       " 'patient00317_study7_view1_frontal.jpg',\n",
       " 'patient00317_study3_view1_frontal.jpg',\n",
       " 'patient00318_study1_view1_frontal.jpg',\n",
       " 'patient00319_study4_view1_frontal.jpg',\n",
       " 'patient00319_study1_view1_frontal.jpg',\n",
       " 'patient00319_study2_view1_frontal.jpg',\n",
       " 'patient00319_study3_view1_frontal.jpg',\n",
       " 'patient00320_study2_view1_frontal.jpg',\n",
       " 'patient00321_study1_view1_frontal.jpg',\n",
       " 'patient00321_study2_view1_frontal.jpg',\n",
       " 'patient00322_study1_view1_frontal.jpg',\n",
       " 'patient00323_study1_view1_frontal.jpg',\n",
       " 'patient00325_study3_view1_frontal.jpg',\n",
       " 'patient00325_study4_view1_frontal.jpg',\n",
       " 'patient00325_study1_view1_frontal.jpg',\n",
       " 'patient00326_study2_view1_frontal.jpg',\n",
       " 'patient00326_study20_view1_frontal.jpg',\n",
       " 'patient00326_study1_view1_frontal.jpg',\n",
       " 'patient00326_study16_view1_frontal.jpg',\n",
       " 'patient00326_study15_view1_frontal.jpg',\n",
       " 'patient00326_study12_view1_frontal.jpg',\n",
       " 'patient00326_study14_view1_frontal.jpg',\n",
       " 'patient00326_study18_view1_frontal.jpg',\n",
       " 'patient00326_study3_view1_frontal.jpg',\n",
       " 'patient00326_study8_view1_frontal.jpg',\n",
       " 'patient00326_study13_view1_frontal.jpg',\n",
       " 'patient00326_study6_view1_frontal.jpg',\n",
       " 'patient00326_study11_view1_frontal.jpg',\n",
       " 'patient00326_study5_view1_frontal.jpg',\n",
       " 'patient00326_study19_view1_frontal.jpg',\n",
       " 'patient00327_study1_view1_frontal.jpg',\n",
       " 'patient00327_study2_view1_frontal.jpg',\n",
       " 'patient00328_study1_view1_frontal.jpg',\n",
       " 'patient00329_study1_view1_frontal.jpg',\n",
       " 'patient00329_study2_view1_frontal.jpg',\n",
       " 'patient00329_study3_view1_frontal.jpg',\n",
       " 'patient00330_study3_view1_frontal.jpg',\n",
       " 'patient00331_study1_view1_frontal.jpg',\n",
       " 'patient00332_study1_view1_frontal.jpg',\n",
       " 'patient00333_study2_view1_frontal.jpg',\n",
       " 'patient00334_study1_view1_frontal.jpg',\n",
       " 'patient00335_study3_view1_frontal.jpg',\n",
       " 'patient00335_study6_view1_frontal.jpg',\n",
       " 'patient00335_study4_view1_frontal.jpg',\n",
       " 'patient00335_study7_view1_frontal.jpg',\n",
       " 'patient00336_study1_view1_frontal.jpg',\n",
       " 'patient00337_study4_view1_frontal.jpg',\n",
       " 'patient00337_study1_view1_frontal.jpg',\n",
       " 'patient00337_study2_view1_frontal.jpg',\n",
       " 'patient00337_study3_view1_frontal.jpg',\n",
       " 'patient00338_study2_view1_frontal.jpg',\n",
       " 'patient00338_study4_view1_frontal.jpg',\n",
       " 'patient00338_study3_view1_frontal.jpg',\n",
       " 'patient00339_study1_view1_frontal.jpg',\n",
       " 'patient00341_study2_view1_frontal.jpg',\n",
       " 'patient00341_study4_view1_frontal.jpg',\n",
       " 'patient00342_study1_view1_frontal.jpg',\n",
       " 'patient00343_study1_view1_frontal.jpg',\n",
       " 'patient00344_study1_view1_frontal.jpg',\n",
       " 'patient00346_study3_view1_frontal.jpg',\n",
       " 'patient00346_study1_view1_frontal.jpg',\n",
       " 'patient00346_study5_view1_frontal.jpg',\n",
       " 'patient00346_study2_view1_frontal.jpg',\n",
       " 'patient00347_study1_view1_frontal.jpg',\n",
       " 'patient00347_study4_view1_frontal.jpg',\n",
       " 'patient00347_study6_view1_frontal.jpg',\n",
       " 'patient00347_study5_view1_frontal.jpg',\n",
       " 'patient00347_study2_view1_frontal.jpg',\n",
       " 'patient00348_study1_view1_frontal.jpg',\n",
       " 'patient00348_study2_view1_frontal.jpg',\n",
       " 'patient00348_study3_view1_frontal.jpg',\n",
       " 'patient00349_study1_view1_frontal.jpg',\n",
       " 'patient00349_study3_view1_frontal.jpg',\n",
       " 'patient00350_study1_view1_frontal.jpg',\n",
       " 'patient00350_study2_view1_frontal.jpg',\n",
       " 'patient00351_study1_view1_frontal.jpg',\n",
       " 'patient00351_study2_view1_frontal.jpg',\n",
       " 'patient00351_study3_view1_frontal.jpg',\n",
       " 'patient00352_study1_view1_frontal.jpg',\n",
       " 'patient00353_study1_view1_frontal.jpg',\n",
       " 'patient00356_study1_view1_frontal.jpg',\n",
       " 'patient00357_study1_view1_frontal.jpg',\n",
       " 'patient00358_study1_view1_frontal.jpg',\n",
       " 'patient00359_study1_view1_frontal.jpg',\n",
       " 'patient00359_study3_view1_frontal.jpg',\n",
       " 'patient00359_study4_view1_frontal.jpg',\n",
       " 'patient00359_study5_view1_frontal.jpg',\n",
       " 'patient00360_study1_view1_frontal.jpg',\n",
       " 'patient00361_study1_view1_frontal.jpg',\n",
       " 'patient00362_study1_view1_frontal.jpg',\n",
       " 'patient00362_study2_view1_frontal.jpg',\n",
       " 'patient00364_study2_view1_frontal.jpg',\n",
       " 'patient00365_study1_view1_frontal.jpg',\n",
       " 'patient00367_study2_view1_frontal.jpg',\n",
       " 'patient00367_study1_view1_frontal.jpg',\n",
       " 'patient00368_study1_view1_frontal.jpg',\n",
       " 'patient00369_study1_view1_frontal.jpg',\n",
       " 'patient00369_study2_view1_frontal.jpg',\n",
       " 'patient00370_study1_view1_frontal.jpg',\n",
       " 'patient00370_study2_view1_frontal.jpg',\n",
       " 'patient00370_study3_view1_frontal.jpg',\n",
       " 'patient00370_study5_view1_frontal.jpg',\n",
       " 'patient00371_study1_view1_frontal.jpg',\n",
       " 'patient00372_study9_view1_frontal.jpg',\n",
       " 'patient00372_study4_view1_frontal.jpg',\n",
       " 'patient00372_study3_view1_frontal.jpg',\n",
       " 'patient00372_study5_view1_frontal.jpg',\n",
       " 'patient00373_study3_view1_frontal.jpg',\n",
       " 'patient00373_study2_view1_frontal.jpg',\n",
       " 'patient00373_study1_view1_frontal.jpg',\n",
       " 'patient00374_study2_view1_frontal.jpg',\n",
       " 'patient00374_study1_view1_frontal.jpg',\n",
       " 'patient00375_study1_view1_frontal.jpg',\n",
       " 'patient00375_study2_view1_frontal.jpg',\n",
       " 'patient00376_study1_view1_frontal.jpg',\n",
       " 'patient00378_study1_view1_frontal.jpg',\n",
       " 'patient00379_study1_view1_frontal.jpg',\n",
       " 'patient00380_study1_view1_frontal.jpg',\n",
       " 'patient00381_study1_view1_frontal.jpg',\n",
       " 'patient00383_study1_view1_frontal.jpg',\n",
       " 'patient00384_study1_view1_frontal.jpg',\n",
       " 'patient00387_study1_view1_frontal.jpg',\n",
       " 'patient00389_study2_view1_frontal.jpg',\n",
       " 'patient00389_study1_view1_frontal.jpg',\n",
       " 'patient00390_study1_view1_frontal.jpg',\n",
       " 'patient00391_study2_view1_frontal.jpg',\n",
       " 'patient00392_study4_view1_frontal.jpg',\n",
       " 'patient00392_study5_view1_frontal.jpg',\n",
       " 'patient00392_study1_view1_frontal.jpg',\n",
       " 'patient00392_study7_view1_frontal.jpg',\n",
       " 'patient00392_study3_view1_frontal.jpg',\n",
       " 'patient00392_study6_view1_frontal.jpg',\n",
       " 'patient00393_study1_view1_frontal.jpg',\n",
       " 'patient00395_study1_view1_frontal.jpg',\n",
       " 'patient00396_study1_view1_frontal.jpg',\n",
       " 'patient00397_study6_view1_frontal.jpg',\n",
       " 'patient00397_study4_view1_frontal.jpg',\n",
       " 'patient00397_study3_view1_frontal.jpg',\n",
       " 'patient00397_study5_view1_frontal.jpg',\n",
       " 'patient00397_study2_view1_frontal.jpg',\n",
       " 'patient00398_study1_view1_frontal.jpg',\n",
       " 'patient00400_study2_view1_frontal.jpg',\n",
       " 'patient00400_study1_view1_frontal.jpg',\n",
       " 'patient00400_study3_view1_frontal.jpg',\n",
       " 'patient00402_study1_view1_frontal.jpg',\n",
       " 'patient00403_study5_view1_frontal.jpg',\n",
       " 'patient00403_study4_view1_frontal.jpg',\n",
       " 'patient00403_study2_view1_frontal.jpg',\n",
       " 'patient00404_study1_view1_frontal.jpg',\n",
       " 'patient00405_study1_view1_frontal.jpg',\n",
       " 'patient00405_study1_view2_frontal.jpg',\n",
       " 'patient00406_study1_view1_frontal.jpg',\n",
       " 'patient00407_study1_view1_frontal.jpg',\n",
       " 'patient00408_study2_view1_frontal.jpg',\n",
       " 'patient00408_study5_view1_frontal.jpg',\n",
       " 'patient00409_study1_view1_frontal.jpg',\n",
       " 'patient00410_study5_view1_frontal.jpg',\n",
       " 'patient00410_study1_view1_frontal.jpg',\n",
       " 'patient00410_study2_view1_frontal.jpg',\n",
       " 'patient00411_study1_view1_frontal.jpg',\n",
       " 'patient00411_study2_view1_frontal.jpg',\n",
       " 'patient00412_study3_view1_frontal.jpg',\n",
       " 'patient00413_study1_view1_frontal.jpg',\n",
       " 'patient00414_study3_view1_frontal.jpg',\n",
       " 'patient00414_study1_view1_frontal.jpg',\n",
       " 'patient00414_study2_view1_frontal.jpg',\n",
       " 'patient00414_study5_view1_frontal.jpg',\n",
       " 'patient00414_study4_view1_frontal.jpg',\n",
       " 'patient00417_study1_view1_frontal.jpg',\n",
       " 'patient00418_study1_view1_frontal.jpg',\n",
       " 'patient00419_study1_view1_frontal.jpg',\n",
       " 'patient00420_study1_view1_frontal.jpg',\n",
       " 'patient00421_study1_view1_frontal.jpg',\n",
       " 'patient00422_study2_view1_frontal.jpg',\n",
       " 'patient00422_study1_view1_frontal.jpg',\n",
       " 'patient00423_study1_view1_frontal.jpg',\n",
       " 'patient00424_study1_view1_frontal.jpg',\n",
       " 'patient00426_study34_view1_frontal.jpg',\n",
       " 'patient00426_study23_view1_frontal.jpg',\n",
       " 'patient00426_study24_view1_frontal.jpg',\n",
       " 'patient00426_study11_view1_frontal.jpg',\n",
       " 'patient00426_study25_view1_frontal.jpg',\n",
       " 'patient00426_study39_view1_frontal.jpg',\n",
       " 'patient00426_study36_view1_frontal.jpg',\n",
       " 'patient00426_study27_view1_frontal.jpg',\n",
       " 'patient00426_study7_view1_frontal.jpg',\n",
       " 'patient00426_study33_view1_frontal.jpg',\n",
       " 'patient00426_study9_view1_frontal.jpg',\n",
       " 'patient00426_study40_view1_frontal.jpg',\n",
       " 'patient00426_study38_view1_frontal.jpg',\n",
       " 'patient00426_study2_view1_frontal.jpg',\n",
       " 'patient00426_study8_view1_frontal.jpg',\n",
       " 'patient00426_study32_view1_frontal.jpg',\n",
       " 'patient00426_study20_view1_frontal.jpg',\n",
       " 'patient00426_study5_view1_frontal.jpg',\n",
       " 'patient00426_study35_view1_frontal.jpg',\n",
       " 'patient00426_study30_view1_frontal.jpg',\n",
       " 'patient00426_study26_view1_frontal.jpg',\n",
       " 'patient00426_study29_view1_frontal.jpg',\n",
       " 'patient00426_study41_view1_frontal.jpg',\n",
       " 'patient00426_study28_view1_frontal.jpg',\n",
       " 'patient00426_study19_view1_frontal.jpg',\n",
       " 'patient00426_study42_view1_frontal.jpg',\n",
       " 'patient00428_study1_view1_frontal.jpg',\n",
       " 'patient00429_study1_view1_frontal.jpg',\n",
       " 'patient00429_study1_view2_frontal.jpg',\n",
       " 'patient00430_study1_view1_frontal.jpg',\n",
       " 'patient00431_study3_view1_frontal.jpg',\n",
       " 'patient00431_study4_view1_frontal.jpg',\n",
       " 'patient00431_study2_view1_frontal.jpg',\n",
       " 'patient00432_study1_view1_frontal.jpg',\n",
       " 'patient00433_study1_view1_frontal.jpg',\n",
       " 'patient00435_study1_view1_frontal.jpg',\n",
       " 'patient00435_study3_view1_frontal.jpg',\n",
       " 'patient00435_study4_view1_frontal.jpg',\n",
       " 'patient00437_study3_view1_frontal.jpg',\n",
       " 'patient00437_study4_view1_frontal.jpg',\n",
       " 'patient00437_study2_view1_frontal.jpg',\n",
       " 'patient00438_study4_view1_frontal.jpg',\n",
       " 'patient00438_study3_view1_frontal.jpg',\n",
       " 'patient00441_study1_view1_frontal.jpg',\n",
       " 'patient00441_study2_view1_frontal.jpg',\n",
       " 'patient00441_study6_view1_frontal.jpg',\n",
       " 'patient00441_study3_view1_frontal.jpg',\n",
       " 'patient00441_study4_view1_frontal.jpg',\n",
       " 'patient00445_study1_view1_frontal.jpg',\n",
       " 'patient00446_study2_view1_frontal.jpg',\n",
       " 'patient00447_study1_view1_frontal.jpg',\n",
       " 'patient00448_study1_view1_frontal.jpg',\n",
       " 'patient00449_study1_view1_frontal.jpg',\n",
       " 'patient00450_study1_view1_frontal.jpg',\n",
       " 'patient00453_study1_view1_frontal.jpg',\n",
       " 'patient00453_study2_view1_frontal.jpg',\n",
       " 'patient00455_study1_view1_frontal.jpg',\n",
       " 'patient00456_study1_view1_frontal.jpg',\n",
       " 'patient00456_study2_view1_frontal.jpg',\n",
       " 'patient00457_study7_view1_frontal.jpg',\n",
       " 'patient00457_study6_view1_frontal.jpg',\n",
       " 'patient00457_study2_view1_frontal.jpg',\n",
       " 'patient00457_study8_view1_frontal.jpg',\n",
       " 'patient00457_study1_view1_frontal.jpg',\n",
       " 'patient00457_study4_view1_frontal.jpg',\n",
       " 'patient00458_study1_view1_frontal.jpg',\n",
       " 'patient00459_study1_view1_frontal.jpg',\n",
       " 'patient00461_study2_view1_frontal.jpg',\n",
       " 'patient00461_study3_view1_frontal.jpg',\n",
       " 'patient00462_study1_view1_frontal.jpg',\n",
       " 'patient00463_study14_view1_frontal.jpg',\n",
       " 'patient00463_study20_view1_frontal.jpg',\n",
       " 'patient00463_study3_view1_frontal.jpg',\n",
       " 'patient00463_study12_view1_frontal.jpg',\n",
       " 'patient00463_study21_view1_frontal.jpg',\n",
       " 'patient00463_study5_view1_frontal.jpg',\n",
       " 'patient00463_study2_view1_frontal.jpg',\n",
       " 'patient00463_study13_view1_frontal.jpg',\n",
       " 'patient00463_study11_view1_frontal.jpg',\n",
       " 'patient00463_study7_view1_frontal.jpg',\n",
       " 'patient00463_study17_view1_frontal.jpg',\n",
       " 'patient00463_study19_view1_frontal.jpg',\n",
       " 'patient00463_study6_view1_frontal.jpg',\n",
       " 'patient00463_study4_view1_frontal.jpg',\n",
       " 'patient00463_study16_view1_frontal.jpg',\n",
       " 'patient00463_study8_view1_frontal.jpg',\n",
       " 'patient00463_study9_view1_frontal.jpg',\n",
       " 'patient00465_study1_view1_frontal.jpg',\n",
       " 'patient00466_study9_view1_frontal.jpg',\n",
       " 'patient00466_study8_view1_frontal.jpg',\n",
       " 'patient00466_study6_view1_frontal.jpg',\n",
       " 'patient00466_study4_view1_frontal.jpg',\n",
       " 'patient00466_study3_view1_frontal.jpg',\n",
       " 'patient00466_study2_view1_frontal.jpg',\n",
       " 'patient00466_study5_view1_frontal.jpg',\n",
       " 'patient00467_study42_view1_frontal.jpg',\n",
       " 'patient00467_study3_view1_frontal.jpg',\n",
       " 'patient00467_study38_view1_frontal.jpg',\n",
       " 'patient00467_study43_view1_frontal.jpg',\n",
       " 'patient00467_study26_view1_frontal.jpg',\n",
       " 'patient00467_study18_view1_frontal.jpg',\n",
       " 'patient00467_study8_view1_frontal.jpg',\n",
       " 'patient00467_study31_view1_frontal.jpg',\n",
       " 'patient00467_study6_view1_frontal.jpg',\n",
       " 'patient00467_study28_view1_frontal.jpg',\n",
       " 'patient00467_study13_view1_frontal.jpg',\n",
       " 'patient00467_study40_view1_frontal.jpg',\n",
       " 'patient00467_study11_view1_frontal.jpg',\n",
       " 'patient00467_study15_view1_frontal.jpg',\n",
       " 'patient00467_study25_view1_frontal.jpg',\n",
       " 'patient00467_study41_view1_frontal.jpg',\n",
       " 'patient00467_study19_view1_frontal.jpg',\n",
       " 'patient00467_study1_view1_frontal.jpg',\n",
       " 'patient00467_study12_view1_frontal.jpg',\n",
       " 'patient00467_study33_view1_frontal.jpg',\n",
       " 'patient00467_study14_view1_frontal.jpg',\n",
       " 'patient00467_study2_view1_frontal.jpg',\n",
       " 'patient00467_study17_view1_frontal.jpg',\n",
       " 'patient00467_study29_view1_frontal.jpg',\n",
       " 'patient00467_study37_view1_frontal.jpg',\n",
       " 'patient00467_study44_view1_frontal.jpg',\n",
       " 'patient00467_study23_view1_frontal.jpg',\n",
       " 'patient00467_study20_view1_frontal.jpg',\n",
       " 'patient00467_study36_view1_frontal.jpg',\n",
       " 'patient00467_study27_view1_frontal.jpg',\n",
       " 'patient00467_study9_view1_frontal.jpg',\n",
       " 'patient00467_study32_view1_frontal.jpg',\n",
       " 'patient00467_study24_view1_frontal.jpg',\n",
       " 'patient00467_study4_view1_frontal.jpg',\n",
       " 'patient00467_study34_view1_frontal.jpg',\n",
       " 'patient00467_study10_view1_frontal.jpg',\n",
       " 'patient00467_study16_view1_frontal.jpg',\n",
       " 'patient00467_study30_view1_frontal.jpg',\n",
       " 'patient00467_study5_view1_frontal.jpg',\n",
       " ...]"
      ]
     },
     "execution_count": 22,
     "metadata": {},
     "output_type": "execute_result"
    }
   ],
   "source": [
    "images"
   ]
  },
  {
   "cell_type": "code",
   "execution_count": 27,
   "metadata": {
    "pycharm": {
     "name": "#%%\n"
    }
   },
   "outputs": [
    {
     "data": {
      "text/plain": [
       "'patient00001'"
      ]
     },
     "execution_count": 27,
     "metadata": {},
     "output_type": "execute_result"
    }
   ],
   "source": [
    "images[0][0:12]"
   ]
  },
  {
   "cell_type": "code",
   "execution_count": 28,
   "metadata": {
    "pycharm": {
     "name": "#%%\n"
    }
   },
   "outputs": [
    {
     "name": "stderr",
     "output_type": "stream",
     "text": [
      "100%|██████████| 118488/118488 [00:38<00:00, 3072.80it/s]\n"
     ]
    }
   ],
   "source": [
    "patients = []\n",
    "for image in tqdm.tqdm(images, total=len(images)):\n",
    "    patient = image[0:12]\n",
    "    if patient not in patients:\n",
    "        patients.append(patient)"
   ]
  },
  {
   "cell_type": "code",
   "execution_count": 30,
   "metadata": {
    "pycharm": {
     "name": "#%%\n"
    }
   },
   "outputs": [
    {
     "data": {
      "text/plain": [
       "49604"
      ]
     },
     "execution_count": 30,
     "metadata": {},
     "output_type": "execute_result"
    }
   ],
   "source": [
    "len(patients)"
   ]
  },
  {
   "cell_type": "code",
   "execution_count": 34,
   "metadata": {
    "pycharm": {
     "name": "#%%\n"
    }
   },
   "outputs": [],
   "source": [
    "random_patients = np.random.choice(patients, size=len(patients), replace=False)"
   ]
  },
  {
   "cell_type": "code",
   "execution_count": 37,
   "metadata": {
    "pycharm": {
     "name": "#%%\n"
    }
   },
   "outputs": [
    {
     "data": {
      "text/plain": [
       "array(['patient26912', 'patient36842', 'patient03884', ...,\n",
       "       'patient12354', 'patient24548', 'patient09150'], dtype='<U12')"
      ]
     },
     "execution_count": 37,
     "metadata": {},
     "output_type": "execute_result"
    }
   ],
   "source": [
    "random_patients"
   ]
  },
  {
   "cell_type": "markdown",
   "metadata": {
    "pycharm": {
     "name": "#%% md\n"
    }
   },
   "source": [
    "Only Train + Val Split, 90/10"
   ]
  },
  {
   "cell_type": "code",
   "execution_count": 38,
   "metadata": {
    "pycharm": {
     "name": "#%%\n"
    }
   },
   "outputs": [],
   "source": [
    "train_patients = random_patients[0:44644]\n",
    "val_patients = random_patients[44644:]"
   ]
  },
  {
   "cell_type": "code",
   "execution_count": 44,
   "metadata": {
    "pycharm": {
     "name": "#%%\n"
    }
   },
   "outputs": [
    {
     "name": "stderr",
     "output_type": "stream",
     "text": [
      "100%|██████████| 118488/118488 [01:20<00:00, 1464.32it/s]\n"
     ]
    }
   ],
   "source": [
    "train_images = []\n",
    "train_labels = []\n",
    "val_images = []\n",
    "val_labels = []\n",
    "for i, image in tqdm.tqdm(enumerate(images), total=len(images)):\n",
    "    patient = image[0:12]\n",
    "    if patient in train_patients:\n",
    "        train_images.append(image)\n",
    "        train_labels.append(labels[i])\n",
    "    else:\n",
    "        val_images.append(image)\n",
    "        val_labels.append(labels[i])"
   ]
  },
  {
   "cell_type": "code",
   "execution_count": 41,
   "metadata": {
    "pycharm": {
     "name": "#%%\n"
    }
   },
   "outputs": [
    {
     "data": {
      "text/plain": [
       "array(['patient26912', 'patient36842', 'patient03884', ...,\n",
       "       'patient01785', 'patient26114', 'patient34408'], dtype='<U12')"
      ]
     },
     "execution_count": 41,
     "metadata": {},
     "output_type": "execute_result"
    }
   ],
   "source": [
    "train_patients"
   ]
  },
  {
   "cell_type": "code",
   "execution_count": 45,
   "metadata": {
    "pycharm": {
     "name": "#%%\n"
    }
   },
   "outputs": [
    {
     "data": {
      "text/plain": [
       "107210"
      ]
     },
     "execution_count": 45,
     "metadata": {},
     "output_type": "execute_result"
    }
   ],
   "source": [
    "len(train_images)"
   ]
  },
  {
   "cell_type": "code",
   "execution_count": 46,
   "metadata": {
    "pycharm": {
     "name": "#%%\n"
    }
   },
   "outputs": [
    {
     "data": {
      "text/plain": [
       "11278"
      ]
     },
     "execution_count": 46,
     "metadata": {},
     "output_type": "execute_result"
    }
   ],
   "source": [
    "len(val_images)"
   ]
  },
  {
   "cell_type": "code",
   "execution_count": 52,
   "metadata": {
    "pycharm": {
     "name": "#%%\n"
    }
   },
   "outputs": [],
   "source": [
    "import csv"
   ]
  },
  {
   "cell_type": "code",
   "execution_count": 53,
   "metadata": {
    "pycharm": {
     "name": "#%%\n"
    }
   },
   "outputs": [],
   "source": [
    "train_rows = zip(train_images, train_labels)\n",
    "with open(path + 'train1.csv', 'w') as f:\n",
    "    writer = csv.writer(f)\n",
    "    for row in train_rows:\n",
    "        writer.writerow(row)"
   ]
  },
  {
   "cell_type": "code",
   "execution_count": 54,
   "metadata": {
    "pycharm": {
     "name": "#%%\n"
    }
   },
   "outputs": [],
   "source": [
    "val_rows = zip(val_images, val_labels)\n",
    "with open(path + 'val1.csv', 'w') as f:\n",
    "    writer = csv.writer(f)\n",
    "    for row in val_rows:\n",
    "        writer.writerow(row)"
   ]
  },
  {
   "cell_type": "markdown",
   "metadata": {
    "pycharm": {
     "name": "#%% md\n"
    }
   },
   "source": [
    "Train/Val/Test split 70/10/20"
   ]
  },
  {
   "cell_type": "code",
   "execution_count": 55,
   "metadata": {
    "pycharm": {
     "name": "#%%\n"
    }
   },
   "outputs": [],
   "source": [
    "random_patients = np.random.choice(patients, size=len(patients), replace=False)"
   ]
  },
  {
   "cell_type": "code",
   "execution_count": 57,
   "metadata": {
    "pycharm": {
     "name": "#%%\n"
    }
   },
   "outputs": [],
   "source": [
    "train_patients = random_patients[0:34723]\n",
    "val_patients = random_patients[34723:39683]\n",
    "test_patients = random_patients[39683:]"
   ]
  },
  {
   "cell_type": "code",
   "execution_count": 61,
   "metadata": {
    "pycharm": {
     "name": "#%%\n"
    }
   },
   "outputs": [
    {
     "name": "stderr",
     "output_type": "stream",
     "text": [
      "100%|██████████| 118488/118488 [01:03<00:00, 1853.67it/s]\n"
     ]
    }
   ],
   "source": [
    "train_images = []\n",
    "train_labels = []\n",
    "val_images = []\n",
    "val_labels = []\n",
    "test_images = []\n",
    "test_labels = []\n",
    "for i, image in tqdm.tqdm(enumerate(images), total=len(images)):\n",
    "    patient = image[0:12]\n",
    "    if patient in train_patients:\n",
    "        train_images.append(image)\n",
    "        train_labels.append(labels[i])\n",
    "    elif patient in val_patients:\n",
    "        val_images.append(image)\n",
    "        val_labels.append(labels[i])\n",
    "    else:\n",
    "        test_images.append(image)\n",
    "        test_labels.append(labels[i])"
   ]
  },
  {
   "cell_type": "code",
   "execution_count": 62,
   "metadata": {
    "pycharm": {
     "name": "#%%\n"
    }
   },
   "outputs": [],
   "source": [
    "train_rows = zip(train_images, train_labels)\n",
    "with open(path + 'train2.csv', 'w') as f:\n",
    "    writer = csv.writer(f)\n",
    "    for row in train_rows:\n",
    "        writer.writerow(row)"
   ]
  },
  {
   "cell_type": "code",
   "execution_count": 63,
   "metadata": {
    "pycharm": {
     "name": "#%%\n"
    }
   },
   "outputs": [],
   "source": [
    "val_rows = zip(val_images, val_labels)\n",
    "with open(path + 'val2.csv', 'w') as f:\n",
    "    writer = csv.writer(f)\n",
    "    for row in val_rows:\n",
    "        writer.writerow(row)"
   ]
  },
  {
   "cell_type": "code",
   "execution_count": 64,
   "metadata": {
    "pycharm": {
     "name": "#%%\n"
    }
   },
   "outputs": [],
   "source": [
    "test_rows = zip(test_images, test_labels)\n",
    "with open(path + 'test2.csv', 'w') as f:\n",
    "    writer = csv.writer(f)\n",
    "    for row in test_rows:\n",
    "        writer.writerow(row)"
   ]
  },
  {
   "cell_type": "code",
   "execution_count": null,
   "metadata": {
    "pycharm": {
     "name": "#%%\n"
    }
   },
   "outputs": [],
   "source": []
  },
  {
   "cell_type": "code",
   "execution_count": null,
   "metadata": {
    "pycharm": {
     "name": "#%%\n"
    }
   },
   "outputs": [],
   "source": []
  },
  {
   "cell_type": "code",
   "execution_count": null,
   "metadata": {
    "pycharm": {
     "name": "#%%\n"
    }
   },
   "outputs": [],
   "source": []
  },
  {
   "cell_type": "code",
   "execution_count": null,
   "metadata": {
    "pycharm": {
     "name": "#%%\n"
    }
   },
   "outputs": [],
   "source": []
  },
  {
   "cell_type": "code",
   "execution_count": 19,
   "metadata": {
    "pycharm": {
     "name": "#%%\n"
    }
   },
   "outputs": [],
   "source": [
    "import pandas as pd\n",
    "import numpy as np"
   ]
  },
  {
   "cell_type": "code",
   "execution_count": 4,
   "metadata": {
    "pycharm": {
     "name": "#%%\n"
    }
   },
   "outputs": [],
   "source": [
    "path = '/home/amar/Datasets/X-ray/CheXpert/normal_frontal_split/'"
   ]
  },
  {
   "cell_type": "code",
   "execution_count": 9,
   "metadata": {
    "pycharm": {
     "name": "#%%\n"
    }
   },
   "outputs": [],
   "source": [
    "train_df = pd.read_csv(path+'train2.csv', header=None)\n",
    "val_df = pd.read_csv(path+'val2.csv', header=None)\n",
    "test_df = pd.read_csv(path+'test2.csv', header=None)"
   ]
  },
  {
   "cell_type": "code",
   "execution_count": 24,
   "metadata": {
    "pycharm": {
     "name": "#%%\n"
    }
   },
   "outputs": [
    {
     "data": {
      "text/plain": [
       "11807"
      ]
     },
     "execution_count": 24,
     "metadata": {},
     "output_type": "execute_result"
    }
   ],
   "source": [
    "np.sum(train_df[1])# /len(train_df[1])"
   ]
  },
  {
   "cell_type": "code",
   "execution_count": 25,
   "metadata": {
    "pycharm": {
     "name": "#%%\n"
    }
   },
   "outputs": [
    {
     "data": {
      "text/plain": [
       "1704"
      ]
     },
     "execution_count": 25,
     "metadata": {},
     "output_type": "execute_result"
    }
   ],
   "source": [
    "np.sum(val_df[1])#/len(val_df[1])"
   ]
  },
  {
   "cell_type": "code",
   "execution_count": 26,
   "metadata": {
    "pycharm": {
     "name": "#%%\n"
    }
   },
   "outputs": [
    {
     "data": {
      "text/plain": [
       "3410"
      ]
     },
     "execution_count": 26,
     "metadata": {},
     "output_type": "execute_result"
    }
   ],
   "source": [
    "np.sum(test_df[1])#/len(test_df[1])"
   ]
  },
  {
   "cell_type": "code",
   "execution_count": 46,
   "metadata": {
    "pycharm": {
     "name": "#%%\n"
    }
   },
   "outputs": [],
   "source": [
    "test = np.random.random([1, 5, 5, 3])"
   ]
  },
  {
   "cell_type": "code",
   "execution_count": 47,
   "metadata": {
    "pycharm": {
     "name": "#%%\n"
    }
   },
   "outputs": [
    {
     "name": "stdout",
     "output_type": "stream",
     "text": [
      "[[[0.02520262 0.29390169 0.81968459]\n",
      "  [0.51909681 0.43250392 0.3349448 ]\n",
      "  [0.42816512 0.48369192 0.56980977]\n",
      "  [0.71519377 0.55678702 0.42045773]\n",
      "  [0.93813737 0.18537666 0.24764392]]\n",
      "\n",
      " [[0.1502658  0.78428337 0.10500829]\n",
      "  [0.80728318 0.57274079 0.8513385 ]\n",
      "  [0.62794115 0.16871489 0.97738329]\n",
      "  [0.09275306 0.49756543 0.00278183]\n",
      "  [0.2988506  0.51112405 0.35144064]]\n",
      "\n",
      " [[0.30482643 0.17384223 0.57606041]\n",
      "  [0.20991327 0.12439841 0.50005314]\n",
      "  [0.59821798 0.27592079 0.14965001]\n",
      "  [0.25295774 0.767504   0.93441025]\n",
      "  [0.93479757 0.91397581 0.88195067]]\n",
      "\n",
      " [[0.64383585 0.50955755 0.28778009]\n",
      "  [0.82592501 0.47835724 0.33372666]\n",
      "  [0.76960273 0.49369655 0.99619262]\n",
      "  [0.061791   0.83285596 0.17430329]\n",
      "  [0.68006834 0.31954307 0.07142802]]\n",
      "\n",
      " [[0.1338428  0.36315923 0.73051793]\n",
      "  [0.9000137  0.79145735 0.722534  ]\n",
      "  [0.72806526 0.33595526 0.52324227]\n",
      "  [0.19579478 0.21119886 0.47808478]\n",
      "  [0.62543035 0.68155705 0.298746  ]]]\n"
     ]
    }
   ],
   "source": [
    "for img in test:\n",
    "    print(img)"
   ]
  },
  {
   "cell_type": "code",
   "execution_count": null,
   "metadata": {
    "pycharm": {
     "name": "#%%\n"
    }
   },
   "outputs": [],
   "source": []
  }
 ],
 "metadata": {
  "kernelspec": {
   "display_name": "Python 3",
   "language": "python",
   "name": "python3"
  },
  "language_info": {
   "codemirror_mode": {
    "name": "ipython",
    "version": 3
   },
   "file_extension": ".py",
   "mimetype": "text/x-python",
   "name": "python",
   "nbconvert_exporter": "python",
   "pygments_lexer": "ipython3",
   "version": "3.7.6"
  }
 },
 "nbformat": 4,
 "nbformat_minor": 2
}