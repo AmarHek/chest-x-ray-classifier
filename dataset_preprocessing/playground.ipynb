{
 "cells": [
  {
   "cell_type": "code",
   "execution_count": null,
   "outputs": [],
   "source": [
    "from dataset import CheXpert\n",
    "import torch"
   ],
   "metadata": {
    "collapsed": false
   }
  },
  {
   "cell_type": "code",
   "execution_count": 2,
   "outputs": [
    {
     "name": "stdout",
     "output_type": "stream",
     "text": [
      "Number of classes: [2]\n",
      "------------------------------\n",
      "Found 191027 images in total, 23385 positive images, 160935 negative images\n",
      "Cardiomegaly(C0): imbalance ratio is 0.1269\n",
      "\n",
      "Found 191027 images in total, 4675 positive images, 170371 negative images\n",
      "Pneumonia(C1): imbalance ratio is 0.0267\n",
      "\n",
      "------------------------------\n",
      "Number of classes: [2]\n",
      "------------------------------\n",
      "Found 202 images in total, 66 positive images, 136 negative images\n",
      "Cardiomegaly(C0): imbalance ratio is 0.3267\n",
      "\n",
      "Found 202 images in total, 8 positive images, 194 negative images\n",
      "Pneumonia(C1): imbalance ratio is 0.0396\n",
      "\n",
      "------------------------------\n"
     ]
    }
   ],
   "source": [
    "csv_path = '\\\\\\\\hastur\\\\scratch\\\\hekalo\\\\Datasets\\\\CheXpert-v1.0-small\\\\'\n",
    "img_root = '\\\\\\\\hastur\\\\scratch\\\\hekalo\\\\Datasets\\\\'\n",
    "trainSet = CheXpert(csv_path=csv_path + 'train.csv', image_root_path=img_root, use_upsampling=False, use_frontal=True,\n",
    "                    image_size=320, mode='train', train_cols=[\"Cardiomegaly\", \"Pneumonia\"])\n",
    "testSet = CheXpert(csv_path=csv_path + 'valid.csv', image_root_path=img_root, use_upsampling=False, use_frontal=True,\n",
    "                   image_size=320, mode='valid', train_cols=[\"Cardiomegaly\", \"Pneumonia\"])\n",
    "trainLoader = torch.utils.data.DataLoader(trainSet, batch_size=32, num_workers=2, drop_last=True, shuffle=True)\n",
    "testLoader = torch.utils.data.DataLoader(testSet, batch_size=32, num_workers=2, drop_last=False, shuffle=False)"
   ],
   "metadata": {
    "collapsed": false
   }
  },
  {
   "cell_type": "code",
   "execution_count": 3,
   "outputs": [],
   "source": [
    "image, labels = next(iter(trainLoader))"
   ],
   "metadata": {
    "collapsed": false
   }
  },
  {
   "cell_type": "code",
   "execution_count": 17,
   "outputs": [],
   "source": [
    "import matplotlib.pyplot as plt"
   ],
   "metadata": {
    "collapsed": false
   }
  },
  {
   "cell_type": "code",
   "execution_count": 1,
   "outputs": [],
   "source": [
    "import libauc"
   ],
   "metadata": {
    "collapsed": false
   }
  },
  {
   "cell_type": "code",
   "execution_count": null,
   "outputs": [],
   "source": [
    "libauc."
   ],
   "metadata": {
    "collapsed": false
   }
  }
 ],
 "metadata": {
  "kernelspec": {
   "display_name": "Python 3",
   "language": "python",
   "name": "python3"
  },
  "language_info": {
   "codemirror_mode": {
    "name": "ipython",
    "version": 2
   },
   "file_extension": ".py",
   "mimetype": "text/x-python",
   "name": "python",
   "nbconvert_exporter": "python",
   "pygments_lexer": "ipython2",
   "version": "2.7.6"
  }
 },
 "nbformat": 4,
 "nbformat_minor": 0
}
